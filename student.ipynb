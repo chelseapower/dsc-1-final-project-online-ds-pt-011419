{
 "cells": [
  {
   "cell_type": "markdown",
   "metadata": {},
   "source": [
    "## Final Project Submission\n",
    "\n",
    "Please fill out:\n",
    "* Student name: **Chelsea Power**\n",
    "* Student pace: **part time**\n",
    "* Scheduled project review date/time: **March 7, 2019 at 11 am ET**\n",
    "* Instructor name: **Joe San Pietro**\n",
    "* Blog post URL: **TBD**\n"
   ]
  },
  {
   "cell_type": "markdown",
   "metadata": {},
   "source": [
    "## Phase 1: Understanding the Dataset\n",
    "\n",
    "* Import the housing sale prices in King County, USA between the time period May 2014 - May 2015. "
   ]
  },
  {
   "cell_type": "code",
   "execution_count": 1,
   "metadata": {},
   "outputs": [
    {
     "data": {
      "text/plain": [
       "(21597, 21)"
      ]
     },
     "execution_count": 1,
     "metadata": {},
     "output_type": "execute_result"
    }
   ],
   "source": [
    "#Imports\n",
    "import pandas as pd\n",
    "import numpy as np \n",
    "import matplotlib.pyplot as plt\n",
    "import seaborn as sns\n",
    "import statsmodels.formula.api as smf\n",
    "plt.style.use('seaborn')\n",
    "\n",
    "from sklearn.model_selection import train_test_split, cross_val_score\n",
    "from sklearn.linear_model import LinearRegression\n",
    "from sklearn.preprocessing import StandardScaler\n",
    "\n",
    "df = pd.read_csv('kc_house_data.csv')\n",
    "\n",
    "#Look at size of the dataset\n",
    "df.shape"
   ]
  },
  {
   "cell_type": "code",
   "execution_count": 2,
   "metadata": {},
   "outputs": [
    {
     "data": {
      "text/html": [
       "<div>\n",
       "<style scoped>\n",
       "    .dataframe tbody tr th:only-of-type {\n",
       "        vertical-align: middle;\n",
       "    }\n",
       "\n",
       "    .dataframe tbody tr th {\n",
       "        vertical-align: top;\n",
       "    }\n",
       "\n",
       "    .dataframe thead th {\n",
       "        text-align: right;\n",
       "    }\n",
       "</style>\n",
       "<table border=\"1\" class=\"dataframe\">\n",
       "  <thead>\n",
       "    <tr style=\"text-align: right;\">\n",
       "      <th></th>\n",
       "      <th>id</th>\n",
       "      <th>date</th>\n",
       "      <th>price</th>\n",
       "      <th>bedrooms</th>\n",
       "      <th>bathrooms</th>\n",
       "      <th>sqft_living</th>\n",
       "      <th>sqft_lot</th>\n",
       "      <th>floors</th>\n",
       "      <th>waterfront</th>\n",
       "      <th>view</th>\n",
       "      <th>...</th>\n",
       "      <th>grade</th>\n",
       "      <th>sqft_above</th>\n",
       "      <th>sqft_basement</th>\n",
       "      <th>yr_built</th>\n",
       "      <th>yr_renovated</th>\n",
       "      <th>zipcode</th>\n",
       "      <th>lat</th>\n",
       "      <th>long</th>\n",
       "      <th>sqft_living15</th>\n",
       "      <th>sqft_lot15</th>\n",
       "    </tr>\n",
       "  </thead>\n",
       "  <tbody>\n",
       "    <tr>\n",
       "      <th>0</th>\n",
       "      <td>7129300520</td>\n",
       "      <td>10/13/2014</td>\n",
       "      <td>221900.0</td>\n",
       "      <td>3</td>\n",
       "      <td>1.00</td>\n",
       "      <td>1180</td>\n",
       "      <td>5650</td>\n",
       "      <td>1.0</td>\n",
       "      <td>NaN</td>\n",
       "      <td>0.0</td>\n",
       "      <td>...</td>\n",
       "      <td>7</td>\n",
       "      <td>1180</td>\n",
       "      <td>0.0</td>\n",
       "      <td>1955</td>\n",
       "      <td>0.0</td>\n",
       "      <td>98178</td>\n",
       "      <td>47.5112</td>\n",
       "      <td>-122.257</td>\n",
       "      <td>1340</td>\n",
       "      <td>5650</td>\n",
       "    </tr>\n",
       "    <tr>\n",
       "      <th>1</th>\n",
       "      <td>6414100192</td>\n",
       "      <td>12/9/2014</td>\n",
       "      <td>538000.0</td>\n",
       "      <td>3</td>\n",
       "      <td>2.25</td>\n",
       "      <td>2570</td>\n",
       "      <td>7242</td>\n",
       "      <td>2.0</td>\n",
       "      <td>0.0</td>\n",
       "      <td>0.0</td>\n",
       "      <td>...</td>\n",
       "      <td>7</td>\n",
       "      <td>2170</td>\n",
       "      <td>400.0</td>\n",
       "      <td>1951</td>\n",
       "      <td>1991.0</td>\n",
       "      <td>98125</td>\n",
       "      <td>47.7210</td>\n",
       "      <td>-122.319</td>\n",
       "      <td>1690</td>\n",
       "      <td>7639</td>\n",
       "    </tr>\n",
       "    <tr>\n",
       "      <th>2</th>\n",
       "      <td>5631500400</td>\n",
       "      <td>2/25/2015</td>\n",
       "      <td>180000.0</td>\n",
       "      <td>2</td>\n",
       "      <td>1.00</td>\n",
       "      <td>770</td>\n",
       "      <td>10000</td>\n",
       "      <td>1.0</td>\n",
       "      <td>0.0</td>\n",
       "      <td>0.0</td>\n",
       "      <td>...</td>\n",
       "      <td>6</td>\n",
       "      <td>770</td>\n",
       "      <td>0.0</td>\n",
       "      <td>1933</td>\n",
       "      <td>NaN</td>\n",
       "      <td>98028</td>\n",
       "      <td>47.7379</td>\n",
       "      <td>-122.233</td>\n",
       "      <td>2720</td>\n",
       "      <td>8062</td>\n",
       "    </tr>\n",
       "    <tr>\n",
       "      <th>3</th>\n",
       "      <td>2487200875</td>\n",
       "      <td>12/9/2014</td>\n",
       "      <td>604000.0</td>\n",
       "      <td>4</td>\n",
       "      <td>3.00</td>\n",
       "      <td>1960</td>\n",
       "      <td>5000</td>\n",
       "      <td>1.0</td>\n",
       "      <td>0.0</td>\n",
       "      <td>0.0</td>\n",
       "      <td>...</td>\n",
       "      <td>7</td>\n",
       "      <td>1050</td>\n",
       "      <td>910.0</td>\n",
       "      <td>1965</td>\n",
       "      <td>0.0</td>\n",
       "      <td>98136</td>\n",
       "      <td>47.5208</td>\n",
       "      <td>-122.393</td>\n",
       "      <td>1360</td>\n",
       "      <td>5000</td>\n",
       "    </tr>\n",
       "    <tr>\n",
       "      <th>4</th>\n",
       "      <td>1954400510</td>\n",
       "      <td>2/18/2015</td>\n",
       "      <td>510000.0</td>\n",
       "      <td>3</td>\n",
       "      <td>2.00</td>\n",
       "      <td>1680</td>\n",
       "      <td>8080</td>\n",
       "      <td>1.0</td>\n",
       "      <td>0.0</td>\n",
       "      <td>0.0</td>\n",
       "      <td>...</td>\n",
       "      <td>8</td>\n",
       "      <td>1680</td>\n",
       "      <td>0.0</td>\n",
       "      <td>1987</td>\n",
       "      <td>0.0</td>\n",
       "      <td>98074</td>\n",
       "      <td>47.6168</td>\n",
       "      <td>-122.045</td>\n",
       "      <td>1800</td>\n",
       "      <td>7503</td>\n",
       "    </tr>\n",
       "    <tr>\n",
       "      <th>5</th>\n",
       "      <td>7237550310</td>\n",
       "      <td>5/12/2014</td>\n",
       "      <td>1230000.0</td>\n",
       "      <td>4</td>\n",
       "      <td>4.50</td>\n",
       "      <td>5420</td>\n",
       "      <td>101930</td>\n",
       "      <td>1.0</td>\n",
       "      <td>0.0</td>\n",
       "      <td>0.0</td>\n",
       "      <td>...</td>\n",
       "      <td>11</td>\n",
       "      <td>3890</td>\n",
       "      <td>1530.0</td>\n",
       "      <td>2001</td>\n",
       "      <td>0.0</td>\n",
       "      <td>98053</td>\n",
       "      <td>47.6561</td>\n",
       "      <td>-122.005</td>\n",
       "      <td>4760</td>\n",
       "      <td>101930</td>\n",
       "    </tr>\n",
       "    <tr>\n",
       "      <th>6</th>\n",
       "      <td>1321400060</td>\n",
       "      <td>6/27/2014</td>\n",
       "      <td>257500.0</td>\n",
       "      <td>3</td>\n",
       "      <td>2.25</td>\n",
       "      <td>1715</td>\n",
       "      <td>6819</td>\n",
       "      <td>2.0</td>\n",
       "      <td>0.0</td>\n",
       "      <td>0.0</td>\n",
       "      <td>...</td>\n",
       "      <td>7</td>\n",
       "      <td>1715</td>\n",
       "      <td>?</td>\n",
       "      <td>1995</td>\n",
       "      <td>0.0</td>\n",
       "      <td>98003</td>\n",
       "      <td>47.3097</td>\n",
       "      <td>-122.327</td>\n",
       "      <td>2238</td>\n",
       "      <td>6819</td>\n",
       "    </tr>\n",
       "    <tr>\n",
       "      <th>7</th>\n",
       "      <td>2008000270</td>\n",
       "      <td>1/15/2015</td>\n",
       "      <td>291850.0</td>\n",
       "      <td>3</td>\n",
       "      <td>1.50</td>\n",
       "      <td>1060</td>\n",
       "      <td>9711</td>\n",
       "      <td>1.0</td>\n",
       "      <td>0.0</td>\n",
       "      <td>NaN</td>\n",
       "      <td>...</td>\n",
       "      <td>7</td>\n",
       "      <td>1060</td>\n",
       "      <td>0.0</td>\n",
       "      <td>1963</td>\n",
       "      <td>0.0</td>\n",
       "      <td>98198</td>\n",
       "      <td>47.4095</td>\n",
       "      <td>-122.315</td>\n",
       "      <td>1650</td>\n",
       "      <td>9711</td>\n",
       "    </tr>\n",
       "    <tr>\n",
       "      <th>8</th>\n",
       "      <td>2414600126</td>\n",
       "      <td>4/15/2015</td>\n",
       "      <td>229500.0</td>\n",
       "      <td>3</td>\n",
       "      <td>1.00</td>\n",
       "      <td>1780</td>\n",
       "      <td>7470</td>\n",
       "      <td>1.0</td>\n",
       "      <td>0.0</td>\n",
       "      <td>0.0</td>\n",
       "      <td>...</td>\n",
       "      <td>7</td>\n",
       "      <td>1050</td>\n",
       "      <td>730.0</td>\n",
       "      <td>1960</td>\n",
       "      <td>0.0</td>\n",
       "      <td>98146</td>\n",
       "      <td>47.5123</td>\n",
       "      <td>-122.337</td>\n",
       "      <td>1780</td>\n",
       "      <td>8113</td>\n",
       "    </tr>\n",
       "    <tr>\n",
       "      <th>9</th>\n",
       "      <td>3793500160</td>\n",
       "      <td>3/12/2015</td>\n",
       "      <td>323000.0</td>\n",
       "      <td>3</td>\n",
       "      <td>2.50</td>\n",
       "      <td>1890</td>\n",
       "      <td>6560</td>\n",
       "      <td>2.0</td>\n",
       "      <td>0.0</td>\n",
       "      <td>0.0</td>\n",
       "      <td>...</td>\n",
       "      <td>7</td>\n",
       "      <td>1890</td>\n",
       "      <td>0.0</td>\n",
       "      <td>2003</td>\n",
       "      <td>0.0</td>\n",
       "      <td>98038</td>\n",
       "      <td>47.3684</td>\n",
       "      <td>-122.031</td>\n",
       "      <td>2390</td>\n",
       "      <td>7570</td>\n",
       "    </tr>\n",
       "  </tbody>\n",
       "</table>\n",
       "<p>10 rows × 21 columns</p>\n",
       "</div>"
      ],
      "text/plain": [
       "           id        date      price  bedrooms  bathrooms  sqft_living  \\\n",
       "0  7129300520  10/13/2014   221900.0         3       1.00         1180   \n",
       "1  6414100192   12/9/2014   538000.0         3       2.25         2570   \n",
       "2  5631500400   2/25/2015   180000.0         2       1.00          770   \n",
       "3  2487200875   12/9/2014   604000.0         4       3.00         1960   \n",
       "4  1954400510   2/18/2015   510000.0         3       2.00         1680   \n",
       "5  7237550310   5/12/2014  1230000.0         4       4.50         5420   \n",
       "6  1321400060   6/27/2014   257500.0         3       2.25         1715   \n",
       "7  2008000270   1/15/2015   291850.0         3       1.50         1060   \n",
       "8  2414600126   4/15/2015   229500.0         3       1.00         1780   \n",
       "9  3793500160   3/12/2015   323000.0         3       2.50         1890   \n",
       "\n",
       "   sqft_lot  floors  waterfront  view     ...      grade  sqft_above  \\\n",
       "0      5650     1.0         NaN   0.0     ...          7        1180   \n",
       "1      7242     2.0         0.0   0.0     ...          7        2170   \n",
       "2     10000     1.0         0.0   0.0     ...          6         770   \n",
       "3      5000     1.0         0.0   0.0     ...          7        1050   \n",
       "4      8080     1.0         0.0   0.0     ...          8        1680   \n",
       "5    101930     1.0         0.0   0.0     ...         11        3890   \n",
       "6      6819     2.0         0.0   0.0     ...          7        1715   \n",
       "7      9711     1.0         0.0   NaN     ...          7        1060   \n",
       "8      7470     1.0         0.0   0.0     ...          7        1050   \n",
       "9      6560     2.0         0.0   0.0     ...          7        1890   \n",
       "\n",
       "   sqft_basement yr_built  yr_renovated  zipcode      lat     long  \\\n",
       "0            0.0     1955           0.0    98178  47.5112 -122.257   \n",
       "1          400.0     1951        1991.0    98125  47.7210 -122.319   \n",
       "2            0.0     1933           NaN    98028  47.7379 -122.233   \n",
       "3          910.0     1965           0.0    98136  47.5208 -122.393   \n",
       "4            0.0     1987           0.0    98074  47.6168 -122.045   \n",
       "5         1530.0     2001           0.0    98053  47.6561 -122.005   \n",
       "6              ?     1995           0.0    98003  47.3097 -122.327   \n",
       "7            0.0     1963           0.0    98198  47.4095 -122.315   \n",
       "8          730.0     1960           0.0    98146  47.5123 -122.337   \n",
       "9            0.0     2003           0.0    98038  47.3684 -122.031   \n",
       "\n",
       "   sqft_living15  sqft_lot15  \n",
       "0           1340        5650  \n",
       "1           1690        7639  \n",
       "2           2720        8062  \n",
       "3           1360        5000  \n",
       "4           1800        7503  \n",
       "5           4760      101930  \n",
       "6           2238        6819  \n",
       "7           1650        9711  \n",
       "8           1780        8113  \n",
       "9           2390        7570  \n",
       "\n",
       "[10 rows x 21 columns]"
      ]
     },
     "execution_count": 2,
     "metadata": {},
     "output_type": "execute_result"
    }
   ],
   "source": [
    "#Show first ten rows in DataFrame\n",
    "df.head(10)"
   ]
  },
  {
   "cell_type": "markdown",
   "metadata": {},
   "source": [
    "### Variable definitions\n",
    "\n",
    "* id - Unique ID for each home sold \n",
    "* date - Date of the home sale \n",
    "* price - Price of each home sold \n",
    "* bedrooms - Number of bedrooms \n",
    "* bathrooms - Number of bathrooms, where .5 accounts for a room with a toilet but no shower \n",
    "* sqft_living - Square footage of the apartments interior living space \n",
    "* sqft_lot - Square footage of the land space \n",
    "* floors - Number of floors \n",
    "* waterfront - For whether the apartment was overlooking the waterfront or not 1’s represent a waterfront property, 0’s represent a non-waterfront property \n",
    "* view - An index from 0 to 4 of how good the view of the property was, 0 - lowest, 4 - highest \n",
    "* condition - An index from 1 to 5 on the condition of the apartment, 1 - lowest, 4 - highest \n",
    "* grade - An index from 1 to 13, where 1-3 falls short of building construction and design, 7 has an average level of * construction and design, and 11-13 have a high quality level of construction and design. \n",
    "* sqft_above - The square footage of the interior housing space that is above ground level \n",
    "* sqft_basement - The square footage of the interior housing space that is below ground level \n",
    "* yr_built - The year the house was initially built \n",
    "* yr_renovated - The year of the house’s last renovation \n",
    "* zipcode - What zipcode area the house is in \n",
    "* lat - Lattitude \n",
    "* long - Longitude \n",
    "* sqft_living15 - The square footage of interior housing living space for the nearest 15 neighbors \n",
    "* sqft_lot15 - The square footage of the land lots of the nearest 15 neighbors"
   ]
  },
  {
   "cell_type": "markdown",
   "metadata": {},
   "source": [
    "## Phase 2: Scrubbing (Data Preparation)\n",
    "\n",
    "* Detecting and deal with missing values\n",
    "* Data type conversions (e.g. numeric data mistakenly encoded as objects/strings)\n",
    "* Checking for and removing multicollinearity (correlated predictors)"
   ]
  },
  {
   "cell_type": "code",
   "execution_count": 3,
   "metadata": {},
   "outputs": [
    {
     "name": "stdout",
     "output_type": "stream",
     "text": [
      "<class 'pandas.core.frame.DataFrame'>\n",
      "RangeIndex: 21597 entries, 0 to 21596\n",
      "Data columns (total 21 columns):\n",
      "id               21597 non-null int64\n",
      "date             21597 non-null object\n",
      "price            21597 non-null float64\n",
      "bedrooms         21597 non-null int64\n",
      "bathrooms        21597 non-null float64\n",
      "sqft_living      21597 non-null int64\n",
      "sqft_lot         21597 non-null int64\n",
      "floors           21597 non-null float64\n",
      "waterfront       19221 non-null float64\n",
      "view             21534 non-null float64\n",
      "condition        21597 non-null int64\n",
      "grade            21597 non-null int64\n",
      "sqft_above       21597 non-null int64\n",
      "sqft_basement    21597 non-null object\n",
      "yr_built         21597 non-null int64\n",
      "yr_renovated     17755 non-null float64\n",
      "zipcode          21597 non-null int64\n",
      "lat              21597 non-null float64\n",
      "long             21597 non-null float64\n",
      "sqft_living15    21597 non-null int64\n",
      "sqft_lot15       21597 non-null int64\n",
      "dtypes: float64(8), int64(11), object(2)\n",
      "memory usage: 3.5+ MB\n"
     ]
    }
   ],
   "source": [
    "# Checking the column types and entries per column\n",
    "df.info()"
   ]
  },
  {
   "cell_type": "code",
   "execution_count": 4,
   "metadata": {},
   "outputs": [
    {
     "data": {
      "text/plain": [
       "id                  0\n",
       "date                0\n",
       "price               0\n",
       "bedrooms            0\n",
       "bathrooms           0\n",
       "sqft_living         0\n",
       "sqft_lot            0\n",
       "floors              0\n",
       "waterfront       2376\n",
       "view               63\n",
       "condition           0\n",
       "grade               0\n",
       "sqft_above          0\n",
       "sqft_basement       0\n",
       "yr_built            0\n",
       "yr_renovated     3842\n",
       "zipcode             0\n",
       "lat                 0\n",
       "long                0\n",
       "sqft_living15       0\n",
       "sqft_lot15          0\n",
       "dtype: int64"
      ]
     },
     "execution_count": 4,
     "metadata": {},
     "output_type": "execute_result"
    }
   ],
   "source": [
    "# Show total missing values by column\n",
    "df.isna().sum()"
   ]
  },
  {
   "cell_type": "markdown",
   "metadata": {},
   "source": [
    "* Replace null values for `waterfront`, `view` and `yr_renovated`"
   ]
  },
  {
   "cell_type": "code",
   "execution_count": 5,
   "metadata": {},
   "outputs": [
    {
     "data": {
      "text/plain": [
       "array([nan,  0.,  1.])"
      ]
     },
     "execution_count": 5,
     "metadata": {},
     "output_type": "execute_result"
    }
   ],
   "source": [
    "# Show unique values for waterfront column\n",
    "df['waterfront'].unique()"
   ]
  },
  {
   "cell_type": "code",
   "execution_count": 6,
   "metadata": {},
   "outputs": [
    {
     "data": {
      "text/plain": [
       "id                  0\n",
       "date                0\n",
       "price               0\n",
       "bedrooms            0\n",
       "bathrooms           0\n",
       "sqft_living         0\n",
       "sqft_lot            0\n",
       "floors              0\n",
       "waterfront          0\n",
       "view               63\n",
       "condition           0\n",
       "grade               0\n",
       "sqft_above          0\n",
       "sqft_basement       0\n",
       "yr_built            0\n",
       "yr_renovated     3842\n",
       "zipcode             0\n",
       "lat                 0\n",
       "long                0\n",
       "sqft_living15       0\n",
       "sqft_lot15          0\n",
       "dtype: int64"
      ]
     },
     "execution_count": 6,
     "metadata": {},
     "output_type": "execute_result"
    }
   ],
   "source": [
    "# Replace null values with 0 rather than removing 2376 rows\n",
    "# Waterfront is a category variable where 0 = no view and 1 = view\n",
    "df['waterfront'].fillna(0, inplace=True)\n",
    "df.isna().sum()"
   ]
  },
  {
   "cell_type": "code",
   "execution_count": 7,
   "metadata": {},
   "outputs": [
    {
     "data": {
      "text/plain": [
       "array([ 0., nan,  3.,  4.,  2.,  1.])"
      ]
     },
     "execution_count": 7,
     "metadata": {},
     "output_type": "execute_result"
    }
   ],
   "source": [
    "# Show unique values for view column\n",
    "df[\"view\"].unique()"
   ]
  },
  {
   "cell_type": "code",
   "execution_count": 8,
   "metadata": {},
   "outputs": [
    {
     "data": {
      "text/plain": [
       "id                  0\n",
       "date                0\n",
       "price               0\n",
       "bedrooms            0\n",
       "bathrooms           0\n",
       "sqft_living         0\n",
       "sqft_lot            0\n",
       "floors              0\n",
       "waterfront          0\n",
       "view                0\n",
       "condition           0\n",
       "grade               0\n",
       "sqft_above          0\n",
       "sqft_basement       0\n",
       "yr_built            0\n",
       "yr_renovated     3842\n",
       "zipcode             0\n",
       "lat                 0\n",
       "long                0\n",
       "sqft_living15       0\n",
       "sqft_lot15          0\n",
       "dtype: int64"
      ]
     },
     "execution_count": 8,
     "metadata": {},
     "output_type": "execute_result"
    }
   ],
   "source": [
    "# Replace 63 null values with 0 to be equilivant to no view to onvert variable from a float to an int\n",
    "# View is a categorical value\n",
    "df['view'].fillna(0, inplace=True)\n",
    "df.isna().sum()"
   ]
  },
  {
   "cell_type": "code",
   "execution_count": 9,
   "metadata": {},
   "outputs": [
    {
     "data": {
      "text/plain": [
       "array([   0., 1991.,   nan, 2002., 2010., 1992., 2013., 1994., 1978.,\n",
       "       2005., 2003., 1984., 1954., 2014., 2011., 1983., 1945., 1990.,\n",
       "       1988., 1977., 1981., 1995., 2000., 1999., 1998., 1970., 1989.,\n",
       "       2004., 1986., 2007., 1987., 2006., 1985., 2001., 1980., 1971.,\n",
       "       1979., 1997., 1950., 1969., 1948., 2009., 2015., 1974., 2008.,\n",
       "       1968., 2012., 1963., 1951., 1962., 1953., 1993., 1996., 1955.,\n",
       "       1982., 1956., 1940., 1976., 1946., 1975., 1964., 1973., 1957.,\n",
       "       1959., 1960., 1967., 1965., 1934., 1972., 1944., 1958.])"
      ]
     },
     "execution_count": 9,
     "metadata": {},
     "output_type": "execute_result"
    }
   ],
   "source": [
    "# Show unique values for yr_renovated column\n",
    "df['yr_renovated'].unique()"
   ]
  },
  {
   "cell_type": "code",
   "execution_count": 10,
   "metadata": {},
   "outputs": [
    {
     "data": {
      "text/plain": [
       "id               0\n",
       "date             0\n",
       "price            0\n",
       "bedrooms         0\n",
       "bathrooms        0\n",
       "sqft_living      0\n",
       "sqft_lot         0\n",
       "floors           0\n",
       "waterfront       0\n",
       "view             0\n",
       "condition        0\n",
       "grade            0\n",
       "sqft_above       0\n",
       "sqft_basement    0\n",
       "yr_built         0\n",
       "yr_renovated     0\n",
       "zipcode          0\n",
       "lat              0\n",
       "long             0\n",
       "sqft_living15    0\n",
       "sqft_lot15       0\n",
       "dtype: int64"
      ]
     },
     "execution_count": 10,
     "metadata": {},
     "output_type": "execute_result"
    }
   ],
   "source": [
    "# Replace null values with 0 so I can convert yr_renovated from a float to an int\n",
    "df['yr_renovated'].fillna(0, inplace=True)\n",
    "df.isna().sum()"
   ]
  },
  {
   "cell_type": "markdown",
   "metadata": {},
   "source": [
    "### Change types of the variables \n",
    "\n",
    "* Change objects to appropiate formats\n",
    "* Make categorical variables"
   ]
  },
  {
   "cell_type": "code",
   "execution_count": 11,
   "metadata": {},
   "outputs": [],
   "source": [
    "# Convert from object to datetime\n",
    "df['date'] = df['date'].astype('datetime64[ns]')\n",
    "\n",
    "# Convert from object to int64\n",
    "df['yr_renovated'] = df['yr_renovated'].astype('int64')\n",
    "\n",
    "# Make categorical variables\n",
    "df[\"waterfront\"] = df[\"waterfront\"].astype('category')\n",
    "df[\"condition\"] = df[\"condition\"].astype('category')\n",
    "df[\"view\"] = df[\"view\"].astype('category')\n",
    "df[\"grade\"] = df[\"grade\"].astype('category')\n",
    "\n",
    "# Convert sqft_basement from object to float\n",
    "df['sqft_basement'] = pd.to_numeric(df[\"sqft_basement\"], errors = 'coerce').fillna(0, downcast='infer')"
   ]
  },
  {
   "cell_type": "markdown",
   "metadata": {},
   "source": [
    "## Summary\n",
    "\n",
    "* All columns have missing values removed and have been set to the correct type\n",
    "* Will not be considering the means and std values for categorical (`waterfront`, `view`, `condition` and `grade`) and datetime (`date`) variables\n",
    "* Will not be considering the means and std values for `id`, `zipcode`, `lat`, `long` columns\n",
    "* Create heatmap to identify most important features and explore the intercorrelation between features"
   ]
  },
  {
   "cell_type": "code",
   "execution_count": 12,
   "metadata": {},
   "outputs": [
    {
     "data": {
      "image/png": "[encoded data removed]",
      "text/plain": [
       "<Figure size 1008x864 with 2 Axes>"
      ]
     },
     "metadata": {
      "needs_background": "light"
     },
     "output_type": "display_data"
    }
   ],
   "source": [
    "#Create coorelation heatmap\n",
    "correlation = df.corr()\n",
    "plt.figure(figsize=(14, 12))\n",
    "heatmap = sns.heatmap(correlation, annot=True, linewidths=0, vmin=-1, cmap=\"RdBu_r\")"
   ]
  },
  {
   "cell_type": "markdown",
   "metadata": {},
   "source": [
    "## Heatmap Summary\n",
    "\n",
    "* Multicolinarity is high for: `bathrooms`, `sqft_living`, `sqft_above`, and `sqft_living15`. These are good candidates to be removed.\n",
    "* `ID` should be removed."
   ]
  },
  {
   "cell_type": "code",
   "execution_count": 13,
   "metadata": {},
   "outputs": [],
   "source": [
    "# Remove ID\n",
    "df_pred = df.drop(['id'], axis=1)"
   ]
  },
  {
   "cell_type": "code",
   "execution_count": 14,
   "metadata": {},
   "outputs": [
    {
     "data": {
      "image/png": "[encoded data removed]",
      "text/plain": [
       "<Figure size 1152x1008 with 16 Axes>"
      ]
     },
     "metadata": {
      "needs_background": "light"
     },
     "output_type": "display_data"
    }
   ],
   "source": [
    "# Look at histograms for all columns\n",
    "df_pred.hist(figsize = [16, 14]);"
   ]
  },
  {
   "cell_type": "markdown",
   "metadata": {},
   "source": [
    "### Summary\n",
    "\n",
    "* There are some obvious outliers in `bedrooms`, `bathrooms`, `sqft_basement`, `sqft_lot`, and `sqft_lot15` columns \n",
    "* Drop rows `bedrooms` to only include bedrooms 5 or less\n",
    "* Drop rows `bathrooms` to only include bedrooms between 0 and 4\n",
    "* Drop rows `sqft_above` to only include less than 4,000\n",
    "* Drop rows `sqft_living` to only include less than 4,000\n",
    "* Drop rows `sqft_living15` to only include less than 4,000\n",
    "* Drop rows `sqft_lot` to only include less than 30,000\n",
    "* Drop rows `sqft_lot15` to only include less than 20,000\n",
    "* After dropping rows, show histogram again"
   ]
  },
  {
   "cell_type": "code",
   "execution_count": 15,
   "metadata": {},
   "outputs": [],
   "source": [
    "# Filter bedrooms 5 or less\n",
    "df_pred.drop(df_pred[ df_pred['bedrooms'] > 5 ].index, inplace=True)\n",
    "\n",
    "# Filter bathrooms 0 to 4\n",
    "df_pred.drop(df_pred[ (df_pred['bathrooms'] <= 0) & (df_pred['bathrooms'] >= 4) ].index, inplace=True)\n",
    "\n",
    "# Filter sqft_above size 4,000 or less\n",
    "df_pred.drop(df_pred[ df_pred['sqft_above'] > 4000 ].index, inplace=True)\n",
    "\n",
    "# Filter sqft_basement size l,000 or less\n",
    "df_pred.drop(df_pred[ df_pred['sqft_basement'] > 1000 ].index, inplace=True)\n",
    "\n",
    "# Filter sqft_living size 4,000 or less\n",
    "df_pred.drop(df_pred[ df_pred['sqft_living'] > 4000 ].index, inplace=True)\n",
    "\n",
    "# Filter sqft_living15 size 4,000 or less\n",
    "df_pred.drop(df_pred[ df_pred['sqft_living15'] > 4000 ].index, inplace=True)\n",
    "\n",
    "# Filter sqft_lot size 30,000 or less\n",
    "df_pred.drop(df_pred[ df_pred['sqft_lot'] > 30000 ].index, inplace=True)\n",
    "\n",
    "# Filter sqft_lot15 size 20,000 or less\n",
    "df_pred.drop(df_pred[ df_pred['sqft_lot15'] > 20000 ].index, inplace=True)"
   ]
  },
  {
   "cell_type": "code",
   "execution_count": 10,
   "metadata": {},
   "outputs": [
    {
     "data": {
      "image/png": "[encoded data removed]",
      "text/plain": [
       "<Figure size 1152x1008 with 16 Axes>"
      ]
     },
     "metadata": {
      "needs_background": "light"
     },
     "output_type": "display_data"
    }
   ],
   "source": [
    "# Show histogram again with dropped outliners\n",
    "df_pred.hist(figsize = [16, 14]);"
   ]
  },
  {
   "cell_type": "markdown",
   "metadata": {},
   "source": [
    "## Phase 3: Exploring\n",
    "\n",
    "* Log transform variables\n",
    "* Cannot log transform `sqft_basement` since there are 303 rows of 0's in this column"
   ]
  },
  {
   "cell_type": "code",
   "execution_count": 16,
   "metadata": {},
   "outputs": [
    {
     "data": {
      "image/png": "[encoded data removed]",
      "text/plain": [
       "<Figure size 1152x1008 with 12 Axes>"
      ]
     },
     "metadata": {
      "needs_background": "light"
     },
     "output_type": "display_data"
    }
   ],
   "source": [
    "# Log transform variables\n",
    "df_log= pd.DataFrame([])\n",
    "df_log[\"bedrooms\"] = np.log(df_pred[\"bedrooms\"])\n",
    "df_log[\"bathrooms\"] = np.log(df_pred[\"bathrooms\"])\n",
    "df_log[\"floors\"] = np.log(df_pred[\"floors\"])\n",
    "df_log[\"price\"] = np.log(df_pred[\"price\"])\n",
    "df_log[\"sqft_above\"] = np.log(df_pred[\"sqft_above\"])\n",
    "#sqft_basement variable is not log transformed because it has 0's in it\n",
    "df_log[\"sqft_basement\"] = df_pred[\"sqft_basement\"] \n",
    "df_log[\"sqft_living\"] = np.log(df_pred[\"sqft_living\"])\n",
    "df_log[\"sqft_living15\"] = np.log(df_pred[\"sqft_living15\"])\n",
    "df_log[\"sqft_lot\"] = np.log(df_pred[\"sqft_lot\"])\n",
    "df_log[\"sqft_lot15\"] = np.log(df_pred[\"sqft_lot15\"])\n",
    "df_log.hist(figsize  = [16, 14]);"
   ]
  },
  {
   "cell_type": "markdown",
   "metadata": {},
   "source": [
    "## Phase 4: Modeling\n",
    "\n",
    "* Create OLS Model get R-squared & P-values\n",
    "* Compare continuous features to categorical\n",
    "* Conduct recrussive feature elimination\n",
    "* Train/Test Split\n",
    "* 10-fold cross validation"
   ]
  },
  {
   "cell_type": "code",
   "execution_count": 18,
   "metadata": {},
   "outputs": [
    {
     "name": "stdout",
     "output_type": "stream",
     "text": [
      "\n",
      "King County Houses: Price~bedrooms\n",
      "------------------------------\n",
      "['bedrooms', 0.0806234292858885, 12.394771403536812, 0.4963346086457333, 0.0]\n",
      "\n",
      "King County Houses: Price~bathrooms\n",
      "------------------------------\n",
      "['bathrooms', 0.1921217929908393, 12.62220027659361, 0.5409007206933749, 0.0]\n",
      "\n",
      "King County Houses: Price~floors\n",
      "------------------------------\n",
      "['floors', 0.11195033163925228, 12.809575644895205, 0.44522594054508247, 0.0]\n",
      "\n",
      "King County Houses: Price~sqft_above\n",
      "------------------------------\n",
      "['sqft_above', 0.2548722404073118, 8.554513269103843, 0.6008950704972237, 0.0]\n",
      "\n",
      "King County Houses: Price~sqft_basement\n",
      "------------------------------\n",
      "['sqft_basement', 0.03786169653341476, 12.90338058624314, 0.00029946164250197545, 1.5127876612566958e-148]\n",
      "\n",
      "King County Houses: Price~sqft_living\n",
      "------------------------------\n",
      "['sqft_living', 0.34591997871151914, 7.465723849623098, 0.7368624445727163, 0.0]\n",
      "\n",
      "King County Houses: Price~sqft_living15\n",
      "------------------------------\n",
      "['sqft_living15', 0.28395305288183614, 6.68936210391038, 0.8383986225798381, 0.0]\n",
      "\n",
      "King County Houses: Price~sqft_lot\n",
      "------------------------------\n",
      "['sqft_lot', 0.0016511114397889104, 13.230807513693538, -0.03081255056892207, 7.83494581037045e-08]\n",
      "\n",
      "King County Houses: Price~sqft_lot15\n",
      "------------------------------\n",
      "['sqft_lot15', 0.002300897884127129, 13.31630286249531, -0.04058770029498859, 2.2785562028881606e-10]\n"
     ]
    }
   ],
   "source": [
    "# Ordinary Least Squares\n",
    "import statsmodels.formula.api as smf\n",
    "import statsmodels.api as sm\n",
    "\n",
    "# Runs OLS regression between (continuous) independent and dependent variables\n",
    "col_names = df_log.describe().columns.drop(['price'])\n",
    "results = [['ind_var', 'r_squared', 'intercept', 'slope', 'p-value' ]]\n",
    "for idx, val in enumerate(col_names):\n",
    "    print (\"\")\n",
    "    print (\"King County Houses: Price~\" + val)\n",
    "    print (\"------------------------------\")\n",
    "    f = 'price~' + val\n",
    "    model = smf.ols(formula=f, data=df_log).fit()\n",
    "    X_new = pd.DataFrame({val: [df_log[val].min(), df_log[val].max()]});\n",
    "    preds = model.predict(X_new)\n",
    "    results.append([val, model.rsquared, model.params[0], model.params[1], model.pvalues[1] ])\n",
    "    print(results[idx+1])"
   ]
  },
  {
   "cell_type": "code",
   "execution_count": 19,
   "metadata": {},
   "outputs": [
    {
     "data": {
      "text/html": [
       "<div>\n",
       "<style scoped>\n",
       "    .dataframe tbody tr th:only-of-type {\n",
       "        vertical-align: middle;\n",
       "    }\n",
       "\n",
       "    .dataframe tbody tr th {\n",
       "        vertical-align: top;\n",
       "    }\n",
       "\n",
       "    .dataframe thead th {\n",
       "        text-align: right;\n",
       "    }\n",
       "</style>\n",
       "<table border=\"1\" class=\"dataframe\">\n",
       "  <thead>\n",
       "    <tr style=\"text-align: right;\">\n",
       "      <th></th>\n",
       "      <th>0</th>\n",
       "      <th>1</th>\n",
       "      <th>2</th>\n",
       "      <th>3</th>\n",
       "      <th>4</th>\n",
       "    </tr>\n",
       "  </thead>\n",
       "  <tbody>\n",
       "    <tr>\n",
       "      <th>0</th>\n",
       "      <td>ind_var</td>\n",
       "      <td>r_squared</td>\n",
       "      <td>intercept</td>\n",
       "      <td>slope</td>\n",
       "      <td>p-value</td>\n",
       "    </tr>\n",
       "    <tr>\n",
       "      <th>1</th>\n",
       "      <td>bedrooms</td>\n",
       "      <td>0.0806234</td>\n",
       "      <td>12.3948</td>\n",
       "      <td>0.496335</td>\n",
       "      <td>0</td>\n",
       "    </tr>\n",
       "    <tr>\n",
       "      <th>2</th>\n",
       "      <td>bathrooms</td>\n",
       "      <td>0.192122</td>\n",
       "      <td>12.6222</td>\n",
       "      <td>0.540901</td>\n",
       "      <td>0</td>\n",
       "    </tr>\n",
       "    <tr>\n",
       "      <th>3</th>\n",
       "      <td>floors</td>\n",
       "      <td>0.11195</td>\n",
       "      <td>12.8096</td>\n",
       "      <td>0.445226</td>\n",
       "      <td>0</td>\n",
       "    </tr>\n",
       "    <tr>\n",
       "      <th>4</th>\n",
       "      <td>sqft_above</td>\n",
       "      <td>0.254872</td>\n",
       "      <td>8.55451</td>\n",
       "      <td>0.600895</td>\n",
       "      <td>0</td>\n",
       "    </tr>\n",
       "    <tr>\n",
       "      <th>5</th>\n",
       "      <td>sqft_basement</td>\n",
       "      <td>0.0378617</td>\n",
       "      <td>12.9034</td>\n",
       "      <td>0.000299462</td>\n",
       "      <td>1.51279e-148</td>\n",
       "    </tr>\n",
       "    <tr>\n",
       "      <th>6</th>\n",
       "      <td>sqft_living</td>\n",
       "      <td>0.34592</td>\n",
       "      <td>7.46572</td>\n",
       "      <td>0.736862</td>\n",
       "      <td>0</td>\n",
       "    </tr>\n",
       "    <tr>\n",
       "      <th>7</th>\n",
       "      <td>sqft_living15</td>\n",
       "      <td>0.283953</td>\n",
       "      <td>6.68936</td>\n",
       "      <td>0.838399</td>\n",
       "      <td>0</td>\n",
       "    </tr>\n",
       "    <tr>\n",
       "      <th>8</th>\n",
       "      <td>sqft_lot</td>\n",
       "      <td>0.00165111</td>\n",
       "      <td>13.2308</td>\n",
       "      <td>-0.0308126</td>\n",
       "      <td>7.83495e-08</td>\n",
       "    </tr>\n",
       "    <tr>\n",
       "      <th>9</th>\n",
       "      <td>sqft_lot15</td>\n",
       "      <td>0.0023009</td>\n",
       "      <td>13.3163</td>\n",
       "      <td>-0.0405877</td>\n",
       "      <td>2.27856e-10</td>\n",
       "    </tr>\n",
       "  </tbody>\n",
       "</table>\n",
       "</div>"
      ],
      "text/plain": [
       "               0           1          2            3             4\n",
       "0        ind_var   r_squared  intercept        slope       p-value\n",
       "1       bedrooms   0.0806234    12.3948     0.496335             0\n",
       "2      bathrooms    0.192122    12.6222     0.540901             0\n",
       "3         floors     0.11195    12.8096     0.445226             0\n",
       "4     sqft_above    0.254872    8.55451     0.600895             0\n",
       "5  sqft_basement   0.0378617    12.9034  0.000299462  1.51279e-148\n",
       "6    sqft_living     0.34592    7.46572     0.736862             0\n",
       "7  sqft_living15    0.283953    6.68936     0.838399             0\n",
       "8       sqft_lot  0.00165111    13.2308   -0.0308126   7.83495e-08\n",
       "9     sqft_lot15   0.0023009    13.3163   -0.0405877   2.27856e-10"
      ]
     },
     "execution_count": 19,
     "metadata": {},
     "output_type": "execute_result"
    }
   ],
   "source": [
    "pd.DataFrame(results)"
   ]
  },
  {
   "cell_type": "markdown",
   "metadata": {},
   "source": [
    "### Results\n",
    "\n",
    "* `bathrooms`, `floors`, `sqft_above`, `sqft_living` and `sqft_living15` should be removed based on R-squared values.\n",
    "* NOTE: `bathrooms`, `sqft_above`, `sqft_living` and `sqft_living15` also showed multicolinarity in the heatmap above\n",
    "* After removing these variables, run OLS again"
   ]
  },
  {
   "cell_type": "code",
   "execution_count": 20,
   "metadata": {},
   "outputs": [
    {
     "name": "stdout",
     "output_type": "stream",
     "text": [
      "<class 'pandas.core.frame.DataFrame'>\n",
      "Int64Index: 17459 entries, 0 to 21596\n",
      "Data columns (total 5 columns):\n",
      "bedrooms         17459 non-null float64\n",
      "price            17459 non-null float64\n",
      "sqft_basement    17459 non-null int64\n",
      "sqft_lot         17459 non-null float64\n",
      "sqft_lot15       17459 non-null float64\n",
      "dtypes: float64(4), int64(1)\n",
      "memory usage: 818.4 KB\n"
     ]
    }
   ],
   "source": [
    "df_log2 = df_log.drop(['bathrooms', 'floors','sqft_above', 'sqft_living', 'sqft_living15'], axis=1)\n",
    "df_log2.info()"
   ]
  },
  {
   "cell_type": "code",
   "execution_count": 21,
   "metadata": {},
   "outputs": [
    {
     "name": "stdout",
     "output_type": "stream",
     "text": [
      "\n",
      "King County Houses: Price~bedrooms\n",
      "------------------------------\n",
      "['bedrooms', 0.0806234292858885, 12.394771403536812, 0.4963346086457333, 0.0]\n",
      "\n",
      "King County Houses: Price~sqft_basement\n",
      "------------------------------\n",
      "['sqft_basement', 0.03786169653341476, 12.90338058624314, 0.00029946164250197545, 1.5127876612566958e-148]\n",
      "\n",
      "King County Houses: Price~sqft_lot\n",
      "------------------------------\n",
      "['sqft_lot', 0.0016511114397889104, 13.230807513693538, -0.03081255056892207, 7.83494581037045e-08]\n",
      "\n",
      "King County Houses: Price~sqft_lot15\n",
      "------------------------------\n",
      "['sqft_lot15', 0.002300897884127129, 13.31630286249531, -0.04058770029498859, 2.2785562028881606e-10]\n"
     ]
    }
   ],
   "source": [
    "# Run OLS a second time\n",
    "col_names = df_log2.describe().columns.drop(['price'])\n",
    "results = [['ind_var', 'r_squared', 'intercept', 'slope', 'p-value' ]]\n",
    "for idx, val in enumerate(col_names):\n",
    "    print (\"\")\n",
    "    print (\"King County Houses: Price~\" + val)\n",
    "    print (\"------------------------------\")\n",
    "    f = 'price~' + val\n",
    "    model = smf.ols(formula=f, data=df_log2).fit()\n",
    "    X_new = pd.DataFrame({val: [df_log2[val].min(), df_log2[val].max()]});\n",
    "    preds = model.predict(X_new)\n",
    "    results.append([val, model.rsquared, model.params[0], model.params[1], model.pvalues[1] ])\n",
    "    print(results[idx+1])"
   ]
  },
  {
   "cell_type": "code",
   "execution_count": 22,
   "metadata": {},
   "outputs": [
    {
     "data": {
      "text/html": [
       "<div>\n",
       "<style scoped>\n",
       "    .dataframe tbody tr th:only-of-type {\n",
       "        vertical-align: middle;\n",
       "    }\n",
       "\n",
       "    .dataframe tbody tr th {\n",
       "        vertical-align: top;\n",
       "    }\n",
       "\n",
       "    .dataframe thead th {\n",
       "        text-align: right;\n",
       "    }\n",
       "</style>\n",
       "<table border=\"1\" class=\"dataframe\">\n",
       "  <thead>\n",
       "    <tr style=\"text-align: right;\">\n",
       "      <th></th>\n",
       "      <th>0</th>\n",
       "      <th>1</th>\n",
       "      <th>2</th>\n",
       "      <th>3</th>\n",
       "      <th>4</th>\n",
       "    </tr>\n",
       "  </thead>\n",
       "  <tbody>\n",
       "    <tr>\n",
       "      <th>0</th>\n",
       "      <td>ind_var</td>\n",
       "      <td>r_squared</td>\n",
       "      <td>intercept</td>\n",
       "      <td>slope</td>\n",
       "      <td>p-value</td>\n",
       "    </tr>\n",
       "    <tr>\n",
       "      <th>1</th>\n",
       "      <td>bedrooms</td>\n",
       "      <td>0.0806234</td>\n",
       "      <td>12.3948</td>\n",
       "      <td>0.496335</td>\n",
       "      <td>0</td>\n",
       "    </tr>\n",
       "    <tr>\n",
       "      <th>2</th>\n",
       "      <td>sqft_basement</td>\n",
       "      <td>0.0378617</td>\n",
       "      <td>12.9034</td>\n",
       "      <td>0.000299462</td>\n",
       "      <td>1.51279e-148</td>\n",
       "    </tr>\n",
       "    <tr>\n",
       "      <th>3</th>\n",
       "      <td>sqft_lot</td>\n",
       "      <td>0.00165111</td>\n",
       "      <td>13.2308</td>\n",
       "      <td>-0.0308126</td>\n",
       "      <td>7.83495e-08</td>\n",
       "    </tr>\n",
       "    <tr>\n",
       "      <th>4</th>\n",
       "      <td>sqft_lot15</td>\n",
       "      <td>0.0023009</td>\n",
       "      <td>13.3163</td>\n",
       "      <td>-0.0405877</td>\n",
       "      <td>2.27856e-10</td>\n",
       "    </tr>\n",
       "  </tbody>\n",
       "</table>\n",
       "</div>"
      ],
      "text/plain": [
       "               0           1          2            3             4\n",
       "0        ind_var   r_squared  intercept        slope       p-value\n",
       "1       bedrooms   0.0806234    12.3948     0.496335             0\n",
       "2  sqft_basement   0.0378617    12.9034  0.000299462  1.51279e-148\n",
       "3       sqft_lot  0.00165111    13.2308   -0.0308126   7.83495e-08\n",
       "4     sqft_lot15   0.0023009    13.3163   -0.0405877   2.27856e-10"
      ]
     },
     "execution_count": 22,
     "metadata": {},
     "output_type": "execute_result"
    }
   ],
   "source": [
    "pd.DataFrame(results)"
   ]
  },
  {
   "cell_type": "markdown",
   "metadata": {},
   "source": [
    "### Results\n",
    "\n",
    "* `bedrooms` and `sqft_basement` look like good predictors for housing `price`"
   ]
  },
  {
   "cell_type": "markdown",
   "metadata": {},
   "source": [
    "### Build a model with each categorical variable as a predictor\n",
    "\n",
    "* Create a new dataset with \"One Hot Encoded\" categories\n",
    "* Run against log transformed and regular `price`\n",
    "* Use the 4 categorical variables: `waterfront`, `view`, `condition`, and `grade`"
   ]
  },
  {
   "cell_type": "code",
   "execution_count": 23,
   "metadata": {},
   "outputs": [],
   "source": [
    "# Create new data set with only price and the category variables\n",
    "df_categories = df_pred.drop(['date','bedrooms','bathrooms','sqft_living',\n",
    "                                 'sqft_lot','floors','sqft_above','sqft_basement',\n",
    "                                 'yr_built', 'yr_renovated','zipcode','lat', 'long',\n",
    "                             'sqft_living15', 'sqft_lot15'], axis=1)"
   ]
  },
  {
   "cell_type": "code",
   "execution_count": 24,
   "metadata": {},
   "outputs": [
    {
     "name": "stdout",
     "output_type": "stream",
     "text": [
      "<class 'pandas.core.frame.DataFrame'>\n",
      "Int64Index: 17459 entries, 0 to 21596\n",
      "Data columns (total 24 columns):\n",
      "price             17459 non-null float64\n",
      "waterfront_0.0    17459 non-null uint8\n",
      "waterfront_1.0    17459 non-null uint8\n",
      "view_0.0          17459 non-null uint8\n",
      "view_1.0          17459 non-null uint8\n",
      "view_2.0          17459 non-null uint8\n",
      "view_3.0          17459 non-null uint8\n",
      "view_4.0          17459 non-null uint8\n",
      "condition_1       17459 non-null uint8\n",
      "condition_2       17459 non-null uint8\n",
      "condition_3       17459 non-null uint8\n",
      "condition_4       17459 non-null uint8\n",
      "condition_5       17459 non-null uint8\n",
      "grade_3           17459 non-null uint8\n",
      "grade_4           17459 non-null uint8\n",
      "grade_5           17459 non-null uint8\n",
      "grade_6           17459 non-null uint8\n",
      "grade_7           17459 non-null uint8\n",
      "grade_8           17459 non-null uint8\n",
      "grade_9           17459 non-null uint8\n",
      "grade_10          17459 non-null uint8\n",
      "grade_11          17459 non-null uint8\n",
      "grade_12          17459 non-null uint8\n",
      "grade_13          17459 non-null uint8\n",
      "dtypes: float64(1), uint8(23)\n",
      "memory usage: 664.9 KB\n"
     ]
    }
   ],
   "source": [
    "# One Hot Encode the category data set\n",
    "one_hot_df = pd.get_dummies(df_categories)\n",
    "one_hot_df.info()"
   ]
  },
  {
   "cell_type": "code",
   "execution_count": 25,
   "metadata": {},
   "outputs": [
    {
     "data": {
      "text/html": [
       "<div>\n",
       "<style scoped>\n",
       "    .dataframe tbody tr th:only-of-type {\n",
       "        vertical-align: middle;\n",
       "    }\n",
       "\n",
       "    .dataframe tbody tr th {\n",
       "        vertical-align: top;\n",
       "    }\n",
       "\n",
       "    .dataframe thead th {\n",
       "        text-align: right;\n",
       "    }\n",
       "</style>\n",
       "<table border=\"1\" class=\"dataframe\">\n",
       "  <thead>\n",
       "    <tr style=\"text-align: right;\">\n",
       "      <th></th>\n",
       "      <th>price</th>\n",
       "      <th>waterfront0</th>\n",
       "      <th>waterfront1</th>\n",
       "      <th>view0</th>\n",
       "      <th>view1</th>\n",
       "      <th>view2</th>\n",
       "      <th>view3</th>\n",
       "      <th>view4</th>\n",
       "      <th>condition1</th>\n",
       "      <th>condition2</th>\n",
       "      <th>...</th>\n",
       "      <th>grade4</th>\n",
       "      <th>grade5</th>\n",
       "      <th>grade6</th>\n",
       "      <th>grade7</th>\n",
       "      <th>grade8</th>\n",
       "      <th>grade9</th>\n",
       "      <th>grade10</th>\n",
       "      <th>grade11</th>\n",
       "      <th>grade12</th>\n",
       "      <th>grade13</th>\n",
       "    </tr>\n",
       "  </thead>\n",
       "  <tbody>\n",
       "    <tr>\n",
       "      <th>0</th>\n",
       "      <td>221900.0</td>\n",
       "      <td>1</td>\n",
       "      <td>0</td>\n",
       "      <td>1</td>\n",
       "      <td>0</td>\n",
       "      <td>0</td>\n",
       "      <td>0</td>\n",
       "      <td>0</td>\n",
       "      <td>0</td>\n",
       "      <td>0</td>\n",
       "      <td>...</td>\n",
       "      <td>0</td>\n",
       "      <td>0</td>\n",
       "      <td>0</td>\n",
       "      <td>1</td>\n",
       "      <td>0</td>\n",
       "      <td>0</td>\n",
       "      <td>0</td>\n",
       "      <td>0</td>\n",
       "      <td>0</td>\n",
       "      <td>0</td>\n",
       "    </tr>\n",
       "    <tr>\n",
       "      <th>1</th>\n",
       "      <td>538000.0</td>\n",
       "      <td>1</td>\n",
       "      <td>0</td>\n",
       "      <td>1</td>\n",
       "      <td>0</td>\n",
       "      <td>0</td>\n",
       "      <td>0</td>\n",
       "      <td>0</td>\n",
       "      <td>0</td>\n",
       "      <td>0</td>\n",
       "      <td>...</td>\n",
       "      <td>0</td>\n",
       "      <td>0</td>\n",
       "      <td>0</td>\n",
       "      <td>1</td>\n",
       "      <td>0</td>\n",
       "      <td>0</td>\n",
       "      <td>0</td>\n",
       "      <td>0</td>\n",
       "      <td>0</td>\n",
       "      <td>0</td>\n",
       "    </tr>\n",
       "    <tr>\n",
       "      <th>2</th>\n",
       "      <td>180000.0</td>\n",
       "      <td>1</td>\n",
       "      <td>0</td>\n",
       "      <td>1</td>\n",
       "      <td>0</td>\n",
       "      <td>0</td>\n",
       "      <td>0</td>\n",
       "      <td>0</td>\n",
       "      <td>0</td>\n",
       "      <td>0</td>\n",
       "      <td>...</td>\n",
       "      <td>0</td>\n",
       "      <td>0</td>\n",
       "      <td>1</td>\n",
       "      <td>0</td>\n",
       "      <td>0</td>\n",
       "      <td>0</td>\n",
       "      <td>0</td>\n",
       "      <td>0</td>\n",
       "      <td>0</td>\n",
       "      <td>0</td>\n",
       "    </tr>\n",
       "    <tr>\n",
       "      <th>3</th>\n",
       "      <td>604000.0</td>\n",
       "      <td>1</td>\n",
       "      <td>0</td>\n",
       "      <td>1</td>\n",
       "      <td>0</td>\n",
       "      <td>0</td>\n",
       "      <td>0</td>\n",
       "      <td>0</td>\n",
       "      <td>0</td>\n",
       "      <td>0</td>\n",
       "      <td>...</td>\n",
       "      <td>0</td>\n",
       "      <td>0</td>\n",
       "      <td>0</td>\n",
       "      <td>1</td>\n",
       "      <td>0</td>\n",
       "      <td>0</td>\n",
       "      <td>0</td>\n",
       "      <td>0</td>\n",
       "      <td>0</td>\n",
       "      <td>0</td>\n",
       "    </tr>\n",
       "    <tr>\n",
       "      <th>4</th>\n",
       "      <td>510000.0</td>\n",
       "      <td>1</td>\n",
       "      <td>0</td>\n",
       "      <td>1</td>\n",
       "      <td>0</td>\n",
       "      <td>0</td>\n",
       "      <td>0</td>\n",
       "      <td>0</td>\n",
       "      <td>0</td>\n",
       "      <td>0</td>\n",
       "      <td>...</td>\n",
       "      <td>0</td>\n",
       "      <td>0</td>\n",
       "      <td>0</td>\n",
       "      <td>0</td>\n",
       "      <td>1</td>\n",
       "      <td>0</td>\n",
       "      <td>0</td>\n",
       "      <td>0</td>\n",
       "      <td>0</td>\n",
       "      <td>0</td>\n",
       "    </tr>\n",
       "  </tbody>\n",
       "</table>\n",
       "<p>5 rows × 24 columns</p>\n",
       "</div>"
      ],
      "text/plain": [
       "      price  waterfront0  waterfront1  view0  view1  view2  view3  view4  \\\n",
       "0  221900.0            1            0      1      0      0      0      0   \n",
       "1  538000.0            1            0      1      0      0      0      0   \n",
       "2  180000.0            1            0      1      0      0      0      0   \n",
       "3  604000.0            1            0      1      0      0      0      0   \n",
       "4  510000.0            1            0      1      0      0      0      0   \n",
       "\n",
       "   condition1  condition2   ...     grade4  grade5  grade6  grade7  grade8  \\\n",
       "0           0           0   ...          0       0       0       1       0   \n",
       "1           0           0   ...          0       0       0       1       0   \n",
       "2           0           0   ...          0       0       1       0       0   \n",
       "3           0           0   ...          0       0       0       1       0   \n",
       "4           0           0   ...          0       0       0       0       1   \n",
       "\n",
       "   grade9  grade10  grade11  grade12  grade13  \n",
       "0       0        0        0        0        0  \n",
       "1       0        0        0        0        0  \n",
       "2       0        0        0        0        0  \n",
       "3       0        0        0        0        0  \n",
       "4       0        0        0        0        0  \n",
       "\n",
       "[5 rows x 24 columns]"
      ]
     },
     "execution_count": 25,
     "metadata": {},
     "output_type": "execute_result"
    }
   ],
   "source": [
    "# Rename the columns / remove the \".0\"\n",
    "one_hot_df.columns = ['price','waterfront0','waterfront1','view0',\n",
    "                     'view1','view2','view3','view4','condition1',\n",
    "                     'condition2','condition3','condition4','condition5',\n",
    "                     'grade3','grade4','grade5','grade6','grade7','grade8',\n",
    "                     'grade9','grade10','grade11','grade12','grade13',]\n",
    "one_hot_df.head()"
   ]
  },
  {
   "cell_type": "markdown",
   "metadata": {},
   "source": [
    "### Categorical Variable Model with regular price"
   ]
  },
  {
   "cell_type": "code",
   "execution_count": 26,
   "metadata": {},
   "outputs": [
    {
     "name": "stdout",
     "output_type": "stream",
     "text": [
      "                            OLS Regression Results                            \n",
      "==============================================================================\n",
      "Dep. Variable:                  price   R-squared:                       0.021\n",
      "Model:                            OLS   Adj. R-squared:                  0.021\n",
      "Method:                 Least Squares   F-statistic:                     378.7\n",
      "Date:                Fri, 08 Mar 2019   Prob (F-statistic):           1.83e-83\n",
      "Time:                        11:57:35   Log-Likelihood:            -2.4154e+05\n",
      "No. Observations:               17459   AIC:                         4.831e+05\n",
      "Df Residuals:                   17457   BIC:                         4.831e+05\n",
      "Df Model:                           1                                         \n",
      "Covariance Type:            nonrobust                                         \n",
      "===============================================================================\n",
      "                  coef    std err          t      P>|t|      [0.025      0.975]\n",
      "-------------------------------------------------------------------------------\n",
      "Intercept    1.184e+06   3.64e+04     32.552      0.000    1.11e+06    1.26e+06\n",
      "waterfront0 -7.088e+05   3.64e+04    -19.460      0.000    -7.8e+05   -6.37e+05\n",
      "==============================================================================\n",
      "Omnibus:                     7400.765   Durbin-Watson:                   1.956\n",
      "Prob(Omnibus):                  0.000   Jarque-Bera (JB):            47073.631\n",
      "Skew:                           1.930   Prob(JB):                         0.00\n",
      "Kurtosis:                      10.057   Cond. No.                         38.9\n",
      "==============================================================================\n",
      "\n",
      "Warnings:\n",
      "[1] Standard Errors assume that the covariance matrix of the errors is correctly specified.\n",
      "                            OLS Regression Results                            \n",
      "==============================================================================\n",
      "Dep. Variable:                  price   R-squared:                       0.089\n",
      "Model:                            OLS   Adj. R-squared:                  0.089\n",
      "Method:                 Least Squares   F-statistic:                     428.6\n",
      "Date:                Fri, 08 Mar 2019   Prob (F-statistic):               0.00\n",
      "Time:                        11:57:36   Log-Likelihood:            -2.4091e+05\n",
      "No. Observations:               17459   AIC:                         4.818e+05\n",
      "Df Residuals:                   17454   BIC:                         4.819e+05\n",
      "Df Model:                           4                                         \n",
      "Covariance Type:            nonrobust                                         \n",
      "==============================================================================\n",
      "                 coef    std err          t      P>|t|      [0.025      0.975]\n",
      "------------------------------------------------------------------------------\n",
      "Intercept   1.042e+06   2.17e+04     47.953      0.000    9.99e+05    1.08e+06\n",
      "view0      -5.829e+05   2.18e+04    -26.736      0.000   -6.26e+05    -5.4e+05\n",
      "view1      -3.693e+05    2.7e+04    -13.674      0.000   -4.22e+05   -3.16e+05\n",
      "view2      -3.789e+05   2.38e+04    -15.934      0.000   -4.25e+05   -3.32e+05\n",
      "view3      -2.474e+05   2.66e+04     -9.292      0.000      -3e+05   -1.95e+05\n",
      "==============================================================================\n",
      "Omnibus:                     7126.414   Durbin-Watson:                   1.955\n",
      "Prob(Omnibus):                  0.000   Jarque-Bera (JB):            44964.283\n",
      "Skew:                           1.847   Prob(JB):                         0.00\n",
      "Kurtosis:                       9.940   Cond. No.                         38.1\n",
      "==============================================================================\n",
      "\n",
      "Warnings:\n",
      "[1] Standard Errors assume that the covariance matrix of the errors is correctly specified.\n",
      "                            OLS Regression Results                            \n",
      "==============================================================================\n",
      "Dep. Variable:                  price   R-squared:                       0.008\n",
      "Model:                            OLS   Adj. R-squared:                  0.007\n",
      "Method:                 Least Squares   F-statistic:                     33.98\n",
      "Date:                Fri, 08 Mar 2019   Prob (F-statistic):           2.74e-28\n",
      "Time:                        11:57:36   Log-Likelihood:            -2.4166e+05\n",
      "No. Observations:               17459   AIC:                         4.833e+05\n",
      "Df Residuals:                   17454   BIC:                         4.834e+05\n",
      "Df Model:                           4                                         \n",
      "Covariance Type:            nonrobust                                         \n",
      "==============================================================================\n",
      "                 coef    std err          t      P>|t|      [0.025      0.975]\n",
      "------------------------------------------------------------------------------\n",
      "Intercept   5.277e+05   6863.482     76.885      0.000    5.14e+05    5.41e+05\n",
      "condition1 -1.819e+05   5.12e+04     -3.555      0.000   -2.82e+05   -8.16e+04\n",
      "condition2  -2.23e+05   2.26e+04     -9.864      0.000   -2.67e+05   -1.79e+05\n",
      "condition3 -4.937e+04   7242.066     -6.816      0.000   -6.36e+04   -3.52e+04\n",
      "condition4 -6.269e+04   7811.448     -8.025      0.000    -7.8e+04   -4.74e+04\n",
      "==============================================================================\n",
      "Omnibus:                     7909.290   Durbin-Watson:                   1.960\n",
      "Prob(Omnibus):                  0.000   Jarque-Bera (JB):            57634.928\n",
      "Skew:                           2.039   Prob(JB):                         0.00\n",
      "Kurtosis:                      10.912   Cond. No.                         33.9\n",
      "==============================================================================\n",
      "\n",
      "Warnings:\n",
      "[1] Standard Errors assume that the covariance matrix of the errors is correctly specified.\n",
      "                            OLS Regression Results                            \n",
      "==============================================================================\n",
      "Dep. Variable:                  price   R-squared:                       0.412\n",
      "Model:                            OLS   Adj. R-squared:                  0.412\n",
      "Method:                 Least Squares   F-statistic:                     1224.\n",
      "Date:                Fri, 08 Mar 2019   Prob (F-statistic):               0.00\n",
      "Time:                        11:57:36   Log-Likelihood:            -2.3709e+05\n",
      "No. Observations:               17459   AIC:                         4.742e+05\n",
      "Df Residuals:                   17448   BIC:                         4.743e+05\n",
      "Df Model:                          10                                         \n",
      "Covariance Type:            nonrobust                                         \n",
      "==============================================================================\n",
      "                 coef    std err          t      P>|t|      [0.025      0.975]\n",
      "------------------------------------------------------------------------------\n",
      "Intercept  -1.737e+17   1.37e+17     -1.265      0.206   -4.43e+17    9.54e+16\n",
      "grade3      1.737e+17   1.37e+17      1.265      0.206   -9.54e+16    4.43e+17\n",
      "grade4      1.737e+17   1.37e+17      1.265      0.206   -9.54e+16    4.43e+17\n",
      "grade5      1.737e+17   1.37e+17      1.265      0.206   -9.54e+16    4.43e+17\n",
      "grade6      1.737e+17   1.37e+17      1.265      0.206   -9.54e+16    4.43e+17\n",
      "grade7      1.737e+17   1.37e+17      1.265      0.206   -9.54e+16    4.43e+17\n",
      "grade8      1.737e+17   1.37e+17      1.265      0.206   -9.54e+16    4.43e+17\n",
      "grade9      1.737e+17   1.37e+17      1.265      0.206   -9.54e+16    4.43e+17\n",
      "grade10     1.737e+17   1.37e+17      1.265      0.206   -9.54e+16    4.43e+17\n",
      "grade11     1.737e+17   1.37e+17      1.265      0.206   -9.54e+16    4.43e+17\n",
      "grade12     1.737e+17   1.37e+17      1.265      0.206   -9.54e+16    4.43e+17\n",
      "grade13             0          0        nan        nan           0           0\n",
      "==============================================================================\n",
      "Omnibus:                     6491.269   Durbin-Watson:                   1.942\n",
      "Prob(Omnibus):                  0.000   Jarque-Bera (JB):            41767.201\n",
      "Skew:                           1.647   Prob(JB):                         0.00\n",
      "Kurtosis:                       9.824   Cond. No.                          inf\n",
      "==============================================================================\n",
      "\n",
      "Warnings:\n",
      "[1] Standard Errors assume that the covariance matrix of the errors is correctly specified.\n",
      "[2] The smallest eigenvalue is      0. This might indicate that there are\n",
      "strong multicollinearity problems or that the design matrix is singular.\n"
     ]
    },
    {
     "name": "stderr",
     "output_type": "stream",
     "text": [
      "/anaconda3/envs/learn-env/lib/python3.6/site-packages/statsmodels/regression/linear_model.py:1633: RuntimeWarning: divide by zero encountered in double_scalars\n",
      "  return np.sqrt(eigvals[0]/eigvals[-1])\n",
      "/anaconda3/envs/learn-env/lib/python3.6/site-packages/statsmodels/base/model.py:1100: RuntimeWarning: invalid value encountered in true_divide\n",
      "  return self.params / self.bse\n",
      "/anaconda3/envs/learn-env/lib/python3.6/site-packages/scipy/stats/_distn_infrastructure.py:879: RuntimeWarning: invalid value encountered in greater\n",
      "  return (self.a < x) & (x < self.b)\n",
      "/anaconda3/envs/learn-env/lib/python3.6/site-packages/scipy/stats/_distn_infrastructure.py:879: RuntimeWarning: invalid value encountered in less\n",
      "  return (self.a < x) & (x < self.b)\n",
      "/anaconda3/envs/learn-env/lib/python3.6/site-packages/scipy/stats/_distn_infrastructure.py:1821: RuntimeWarning: invalid value encountered in less_equal\n",
      "  cond2 = cond0 & (x <= self.a)\n"
     ]
    }
   ],
   "source": [
    "# Using regular price\n",
    "cols_waterfront = one_hot_df.columns[1:2]\n",
    "cols_view = one_hot_df.columns[3:7]\n",
    "cols_condition = one_hot_df.columns[8:12]\n",
    "cols_grade = one_hot_df.columns[13:24] \n",
    "\n",
    "cols = [cols_waterfront, cols_view, cols_condition, cols_grade]\n",
    "for col in cols:\n",
    "    sum_cols = \"+\".join(col)\n",
    "    form = \"price~\" + sum_cols\n",
    "    model = smf.ols(formula= form, data=one_hot_df).fit()\n",
    "    print(model.summary())"
   ]
  },
  {
   "cell_type": "markdown",
   "metadata": {},
   "source": [
    "### Results\n",
    "\n",
    "* `Regular price` against `waterfront` shows a low .02 (or 2%) r-squared value with a 0 p-value\n",
    "* `Regular price` against `view` shows a low .09 (or 9%) r-squared value with a 0 p-value\n",
    "* `Regular price` against `condition` shows a low .01 (or 1%) r-squared value with a 0 p-value\n",
    "* `Regular price` against `grade` shows a high .41 (or 41%) r-squared value with a 0.2 p-value"
   ]
  },
  {
   "cell_type": "code",
   "execution_count": 27,
   "metadata": {},
   "outputs": [],
   "source": [
    "# Create new DataFrame with log transformed price and categorical variables\n",
    "df_log_cat = pd.DataFrame([])\n",
    "df_log_cat[\"price\"] = np.log(df_pred[\"price\"])\n",
    "df_log_cat[\"waterfront\"] = df_pred[\"waterfront\"]\n",
    "df_log_cat[\"view\"] = df_pred[\"view\"]\n",
    "df_log_cat[\"condition\"] = df_pred[\"condition\"]\n",
    "df_log_cat[\"grade\"] = df_pred[\"grade\"]"
   ]
  },
  {
   "cell_type": "code",
   "execution_count": 28,
   "metadata": {},
   "outputs": [
    {
     "name": "stdout",
     "output_type": "stream",
     "text": [
      "<class 'pandas.core.frame.DataFrame'>\n",
      "Int64Index: 17459 entries, 0 to 21596\n",
      "Data columns (total 24 columns):\n",
      "price             17459 non-null float64\n",
      "waterfront_0.0    17459 non-null uint8\n",
      "waterfront_1.0    17459 non-null uint8\n",
      "view_0.0          17459 non-null uint8\n",
      "view_1.0          17459 non-null uint8\n",
      "view_2.0          17459 non-null uint8\n",
      "view_3.0          17459 non-null uint8\n",
      "view_4.0          17459 non-null uint8\n",
      "condition_1       17459 non-null uint8\n",
      "condition_2       17459 non-null uint8\n",
      "condition_3       17459 non-null uint8\n",
      "condition_4       17459 non-null uint8\n",
      "condition_5       17459 non-null uint8\n",
      "grade_3           17459 non-null uint8\n",
      "grade_4           17459 non-null uint8\n",
      "grade_5           17459 non-null uint8\n",
      "grade_6           17459 non-null uint8\n",
      "grade_7           17459 non-null uint8\n",
      "grade_8           17459 non-null uint8\n",
      "grade_9           17459 non-null uint8\n",
      "grade_10          17459 non-null uint8\n",
      "grade_11          17459 non-null uint8\n",
      "grade_12          17459 non-null uint8\n",
      "grade_13          17459 non-null uint8\n",
      "dtypes: float64(1), uint8(23)\n",
      "memory usage: 664.9 KB\n"
     ]
    }
   ],
   "source": [
    "# One Hot Encode the new category data set\n",
    "one_hot_df_log = pd.get_dummies(df_log_cat)\n",
    "one_hot_df_log.info()"
   ]
  },
  {
   "cell_type": "code",
   "execution_count": 29,
   "metadata": {},
   "outputs": [
    {
     "data": {
      "text/html": [
       "<div>\n",
       "<style scoped>\n",
       "    .dataframe tbody tr th:only-of-type {\n",
       "        vertical-align: middle;\n",
       "    }\n",
       "\n",
       "    .dataframe tbody tr th {\n",
       "        vertical-align: top;\n",
       "    }\n",
       "\n",
       "    .dataframe thead th {\n",
       "        text-align: right;\n",
       "    }\n",
       "</style>\n",
       "<table border=\"1\" class=\"dataframe\">\n",
       "  <thead>\n",
       "    <tr style=\"text-align: right;\">\n",
       "      <th></th>\n",
       "      <th>price</th>\n",
       "      <th>waterfront0</th>\n",
       "      <th>waterfront1</th>\n",
       "      <th>view0</th>\n",
       "      <th>view1</th>\n",
       "      <th>view2</th>\n",
       "      <th>view3</th>\n",
       "      <th>view4</th>\n",
       "      <th>condition1</th>\n",
       "      <th>condition2</th>\n",
       "      <th>...</th>\n",
       "      <th>grade4</th>\n",
       "      <th>grade5</th>\n",
       "      <th>grade6</th>\n",
       "      <th>grade7</th>\n",
       "      <th>grade8</th>\n",
       "      <th>grade9</th>\n",
       "      <th>grade10</th>\n",
       "      <th>grade11</th>\n",
       "      <th>grade12</th>\n",
       "      <th>grade13</th>\n",
       "    </tr>\n",
       "  </thead>\n",
       "  <tbody>\n",
       "    <tr>\n",
       "      <th>0</th>\n",
       "      <td>12.309982</td>\n",
       "      <td>1</td>\n",
       "      <td>0</td>\n",
       "      <td>1</td>\n",
       "      <td>0</td>\n",
       "      <td>0</td>\n",
       "      <td>0</td>\n",
       "      <td>0</td>\n",
       "      <td>0</td>\n",
       "      <td>0</td>\n",
       "      <td>...</td>\n",
       "      <td>0</td>\n",
       "      <td>0</td>\n",
       "      <td>0</td>\n",
       "      <td>1</td>\n",
       "      <td>0</td>\n",
       "      <td>0</td>\n",
       "      <td>0</td>\n",
       "      <td>0</td>\n",
       "      <td>0</td>\n",
       "      <td>0</td>\n",
       "    </tr>\n",
       "    <tr>\n",
       "      <th>1</th>\n",
       "      <td>13.195614</td>\n",
       "      <td>1</td>\n",
       "      <td>0</td>\n",
       "      <td>1</td>\n",
       "      <td>0</td>\n",
       "      <td>0</td>\n",
       "      <td>0</td>\n",
       "      <td>0</td>\n",
       "      <td>0</td>\n",
       "      <td>0</td>\n",
       "      <td>...</td>\n",
       "      <td>0</td>\n",
       "      <td>0</td>\n",
       "      <td>0</td>\n",
       "      <td>1</td>\n",
       "      <td>0</td>\n",
       "      <td>0</td>\n",
       "      <td>0</td>\n",
       "      <td>0</td>\n",
       "      <td>0</td>\n",
       "      <td>0</td>\n",
       "    </tr>\n",
       "    <tr>\n",
       "      <th>2</th>\n",
       "      <td>12.100712</td>\n",
       "      <td>1</td>\n",
       "      <td>0</td>\n",
       "      <td>1</td>\n",
       "      <td>0</td>\n",
       "      <td>0</td>\n",
       "      <td>0</td>\n",
       "      <td>0</td>\n",
       "      <td>0</td>\n",
       "      <td>0</td>\n",
       "      <td>...</td>\n",
       "      <td>0</td>\n",
       "      <td>0</td>\n",
       "      <td>1</td>\n",
       "      <td>0</td>\n",
       "      <td>0</td>\n",
       "      <td>0</td>\n",
       "      <td>0</td>\n",
       "      <td>0</td>\n",
       "      <td>0</td>\n",
       "      <td>0</td>\n",
       "    </tr>\n",
       "    <tr>\n",
       "      <th>3</th>\n",
       "      <td>13.311329</td>\n",
       "      <td>1</td>\n",
       "      <td>0</td>\n",
       "      <td>1</td>\n",
       "      <td>0</td>\n",
       "      <td>0</td>\n",
       "      <td>0</td>\n",
       "      <td>0</td>\n",
       "      <td>0</td>\n",
       "      <td>0</td>\n",
       "      <td>...</td>\n",
       "      <td>0</td>\n",
       "      <td>0</td>\n",
       "      <td>0</td>\n",
       "      <td>1</td>\n",
       "      <td>0</td>\n",
       "      <td>0</td>\n",
       "      <td>0</td>\n",
       "      <td>0</td>\n",
       "      <td>0</td>\n",
       "      <td>0</td>\n",
       "    </tr>\n",
       "    <tr>\n",
       "      <th>4</th>\n",
       "      <td>13.142166</td>\n",
       "      <td>1</td>\n",
       "      <td>0</td>\n",
       "      <td>1</td>\n",
       "      <td>0</td>\n",
       "      <td>0</td>\n",
       "      <td>0</td>\n",
       "      <td>0</td>\n",
       "      <td>0</td>\n",
       "      <td>0</td>\n",
       "      <td>...</td>\n",
       "      <td>0</td>\n",
       "      <td>0</td>\n",
       "      <td>0</td>\n",
       "      <td>0</td>\n",
       "      <td>1</td>\n",
       "      <td>0</td>\n",
       "      <td>0</td>\n",
       "      <td>0</td>\n",
       "      <td>0</td>\n",
       "      <td>0</td>\n",
       "    </tr>\n",
       "  </tbody>\n",
       "</table>\n",
       "<p>5 rows × 24 columns</p>\n",
       "</div>"
      ],
      "text/plain": [
       "       price  waterfront0  waterfront1  view0  view1  view2  view3  view4  \\\n",
       "0  12.309982            1            0      1      0      0      0      0   \n",
       "1  13.195614            1            0      1      0      0      0      0   \n",
       "2  12.100712            1            0      1      0      0      0      0   \n",
       "3  13.311329            1            0      1      0      0      0      0   \n",
       "4  13.142166            1            0      1      0      0      0      0   \n",
       "\n",
       "   condition1  condition2   ...     grade4  grade5  grade6  grade7  grade8  \\\n",
       "0           0           0   ...          0       0       0       1       0   \n",
       "1           0           0   ...          0       0       0       1       0   \n",
       "2           0           0   ...          0       0       1       0       0   \n",
       "3           0           0   ...          0       0       0       1       0   \n",
       "4           0           0   ...          0       0       0       0       1   \n",
       "\n",
       "   grade9  grade10  grade11  grade12  grade13  \n",
       "0       0        0        0        0        0  \n",
       "1       0        0        0        0        0  \n",
       "2       0        0        0        0        0  \n",
       "3       0        0        0        0        0  \n",
       "4       0        0        0        0        0  \n",
       "\n",
       "[5 rows x 24 columns]"
      ]
     },
     "execution_count": 29,
     "metadata": {},
     "output_type": "execute_result"
    }
   ],
   "source": [
    "# Rename the columns / remove the \".0\"\n",
    "one_hot_df_log.columns = ['price','waterfront0','waterfront1','view0',\n",
    "                     'view1','view2','view3','view4','condition1',\n",
    "                     'condition2','condition3','condition4','condition5',\n",
    "                     'grade3','grade4','grade5','grade6','grade7','grade8',\n",
    "                     'grade9','grade10','grade11','grade12','grade13',]\n",
    "one_hot_df_log.head()"
   ]
  },
  {
   "cell_type": "markdown",
   "metadata": {},
   "source": [
    "### Categorical Variable Model with log transformed price"
   ]
  },
  {
   "cell_type": "code",
   "execution_count": 30,
   "metadata": {},
   "outputs": [
    {
     "name": "stdout",
     "output_type": "stream",
     "text": [
      "                            OLS Regression Results                            \n",
      "==============================================================================\n",
      "Dep. Variable:                  price   R-squared:                       0.010\n",
      "Model:                            OLS   Adj. R-squared:                  0.010\n",
      "Method:                 Least Squares   F-statistic:                     169.9\n",
      "Date:                Fri, 08 Mar 2019   Prob (F-statistic):           1.21e-38\n",
      "Time:                        11:57:45   Log-Likelihood:                -11576.\n",
      "No. Observations:               17459   AIC:                         2.316e+04\n",
      "Df Residuals:                   17457   BIC:                         2.317e+04\n",
      "Df Model:                           1                                         \n",
      "Covariance Type:            nonrobust                                         \n",
      "===============================================================================\n",
      "                  coef    std err          t      P>|t|      [0.025      0.975]\n",
      "-------------------------------------------------------------------------------\n",
      "Intercept      13.8627      0.069    200.205      0.000      13.727      13.998\n",
      "waterfront0    -0.9036      0.069    -13.033      0.000      -1.040      -0.768\n",
      "==============================================================================\n",
      "Omnibus:                       52.113   Durbin-Watson:                   1.958\n",
      "Prob(Omnibus):                  0.000   Jarque-Bera (JB):               52.857\n",
      "Skew:                           0.126   Prob(JB):                     3.33e-12\n",
      "Kurtosis:                       3.094   Cond. No.                         38.9\n",
      "==============================================================================\n",
      "\n",
      "Warnings:\n",
      "[1] Standard Errors assume that the covariance matrix of the errors is correctly specified.\n",
      "                            OLS Regression Results                            \n",
      "==============================================================================\n",
      "Dep. Variable:                  price   R-squared:                       0.066\n",
      "Model:                            OLS   Adj. R-squared:                  0.066\n",
      "Method:                 Least Squares   F-statistic:                     307.4\n",
      "Date:                Fri, 08 Mar 2019   Prob (F-statistic):          5.12e-256\n",
      "Time:                        11:57:45   Log-Likelihood:                -11067.\n",
      "No. Observations:               17459   AIC:                         2.214e+04\n",
      "Df Residuals:                   17454   BIC:                         2.218e+04\n",
      "Df Model:                           4                                         \n",
      "Covariance Type:            nonrobust                                         \n",
      "==============================================================================\n",
      "                 coef    std err          t      P>|t|      [0.025      0.975]\n",
      "------------------------------------------------------------------------------\n",
      "Intercept     13.7498      0.042    330.202      0.000      13.668      13.831\n",
      "view0         -0.8195      0.042    -19.609      0.000      -0.901      -0.738\n",
      "view1         -0.4241      0.052     -8.193      0.000      -0.526      -0.323\n",
      "view2         -0.4429      0.046     -9.718      0.000      -0.532      -0.354\n",
      "view3         -0.2709      0.051     -5.309      0.000      -0.371      -0.171\n",
      "==============================================================================\n",
      "Omnibus:                       29.637   Durbin-Watson:                   1.954\n",
      "Prob(Omnibus):                  0.000   Jarque-Bera (JB):               30.146\n",
      "Skew:                           0.090   Prob(JB):                     2.84e-07\n",
      "Kurtosis:                       3.095   Cond. No.                         38.1\n",
      "==============================================================================\n",
      "\n",
      "Warnings:\n",
      "[1] Standard Errors assume that the covariance matrix of the errors is correctly specified.\n",
      "                            OLS Regression Results                            \n",
      "==============================================================================\n",
      "Dep. Variable:                  price   R-squared:                       0.013\n",
      "Model:                            OLS   Adj. R-squared:                  0.013\n",
      "Method:                 Least Squares   F-statistic:                     57.60\n",
      "Date:                Fri, 08 Mar 2019   Prob (F-statistic):           2.29e-48\n",
      "Time:                        11:57:45   Log-Likelihood:                -11546.\n",
      "No. Observations:               17459   AIC:                         2.310e+04\n",
      "Df Residuals:                   17454   BIC:                         2.314e+04\n",
      "Df Model:                           4                                         \n",
      "Covariance Type:            nonrobust                                         \n",
      "==============================================================================\n",
      "                 coef    std err          t      P>|t|      [0.025      0.975]\n",
      "------------------------------------------------------------------------------\n",
      "Intercept     13.0518      0.013   1007.546      0.000      13.026      13.077\n",
      "condition1    -0.5478      0.097     -5.672      0.000      -0.737      -0.358\n",
      "condition2    -0.5594      0.043    -13.110      0.000      -0.643      -0.476\n",
      "condition3    -0.0817      0.014     -5.977      0.000      -0.108      -0.055\n",
      "condition4    -0.1233      0.015     -8.361      0.000      -0.152      -0.094\n",
      "==============================================================================\n",
      "Omnibus:                       87.565   Durbin-Watson:                   1.962\n",
      "Prob(Omnibus):                  0.000   Jarque-Bera (JB):               89.442\n",
      "Skew:                           0.165   Prob(JB):                     3.78e-20\n",
      "Kurtosis:                       3.117   Cond. No.                         33.9\n",
      "==============================================================================\n",
      "\n",
      "Warnings:\n",
      "[1] Standard Errors assume that the covariance matrix of the errors is correctly specified.\n",
      "                            OLS Regression Results                            \n",
      "==============================================================================\n",
      "Dep. Variable:                  price   R-squared:                       0.401\n",
      "Model:                            OLS   Adj. R-squared:                  0.401\n",
      "Method:                 Least Squares   F-statistic:                     1170.\n",
      "Date:                Fri, 08 Mar 2019   Prob (F-statistic):               0.00\n",
      "Time:                        11:57:45   Log-Likelihood:                -7180.6\n",
      "No. Observations:               17459   AIC:                         1.438e+04\n",
      "Df Residuals:                   17448   BIC:                         1.447e+04\n",
      "Df Model:                          10                                         \n",
      "Covariance Type:            nonrobust                                         \n",
      "==============================================================================\n",
      "                 coef    std err          t      P>|t|      [0.025      0.975]\n",
      "------------------------------------------------------------------------------\n",
      "Intercept  -4.563e+11   2.62e+11     -1.740      0.082    -9.7e+11    5.78e+10\n",
      "grade3      4.563e+11   2.62e+11      1.740      0.082   -5.78e+10     9.7e+11\n",
      "grade4      4.563e+11   2.62e+11      1.740      0.082   -5.78e+10     9.7e+11\n",
      "grade5      4.563e+11   2.62e+11      1.740      0.082   -5.78e+10     9.7e+11\n",
      "grade6      4.563e+11   2.62e+11      1.740      0.082   -5.78e+10     9.7e+11\n",
      "grade7      4.563e+11   2.62e+11      1.740      0.082   -5.78e+10     9.7e+11\n",
      "grade8      4.563e+11   2.62e+11      1.740      0.082   -5.78e+10     9.7e+11\n",
      "grade9      4.563e+11   2.62e+11      1.740      0.082   -5.78e+10     9.7e+11\n",
      "grade10     4.563e+11   2.62e+11      1.740      0.082   -5.78e+10     9.7e+11\n",
      "grade11     4.563e+11   2.62e+11      1.740      0.082   -5.78e+10     9.7e+11\n",
      "grade12     4.563e+11   2.62e+11      1.740      0.082   -5.78e+10     9.7e+11\n",
      "grade13             0          0        nan        nan           0           0\n",
      "==============================================================================\n",
      "Omnibus:                       25.553   Durbin-Watson:                   1.964\n",
      "Prob(Omnibus):                  0.000   Jarque-Bera (JB):               25.664\n",
      "Skew:                           0.093   Prob(JB):                     2.67e-06\n",
      "Kurtosis:                       2.979   Cond. No.                          inf\n",
      "==============================================================================\n",
      "\n",
      "Warnings:\n",
      "[1] Standard Errors assume that the covariance matrix of the errors is correctly specified.\n",
      "[2] The smallest eigenvalue is      0. This might indicate that there are\n",
      "strong multicollinearity problems or that the design matrix is singular.\n"
     ]
    },
    {
     "name": "stderr",
     "output_type": "stream",
     "text": [
      "/anaconda3/envs/learn-env/lib/python3.6/site-packages/statsmodels/regression/linear_model.py:1633: RuntimeWarning: divide by zero encountered in double_scalars\n",
      "  return np.sqrt(eigvals[0]/eigvals[-1])\n",
      "/anaconda3/envs/learn-env/lib/python3.6/site-packages/statsmodels/base/model.py:1100: RuntimeWarning: invalid value encountered in true_divide\n",
      "  return self.params / self.bse\n",
      "/anaconda3/envs/learn-env/lib/python3.6/site-packages/scipy/stats/_distn_infrastructure.py:879: RuntimeWarning: invalid value encountered in greater\n",
      "  return (self.a < x) & (x < self.b)\n",
      "/anaconda3/envs/learn-env/lib/python3.6/site-packages/scipy/stats/_distn_infrastructure.py:879: RuntimeWarning: invalid value encountered in less\n",
      "  return (self.a < x) & (x < self.b)\n",
      "/anaconda3/envs/learn-env/lib/python3.6/site-packages/scipy/stats/_distn_infrastructure.py:1821: RuntimeWarning: invalid value encountered in less_equal\n",
      "  cond2 = cond0 & (x <= self.a)\n"
     ]
    }
   ],
   "source": [
    "# Using log transformed price\n",
    "cols_waterfront = one_hot_df_log.columns[1:2]\n",
    "cols_view = one_hot_df_log.columns[3:7]\n",
    "cols_condition = one_hot_df_log.columns[8:12]\n",
    "cols_grade = one_hot_df_log.columns[13:24] \n",
    "\n",
    "cols = [cols_waterfront, cols_view, cols_condition, cols_grade]\n",
    "for col in cols:\n",
    "    sum_cols = \"+\".join(col)\n",
    "    form = \"price~\" + sum_cols\n",
    "    model = smf.ols(formula= form, data=one_hot_df_log).fit()\n",
    "    print(model.summary())"
   ]
  },
  {
   "cell_type": "markdown",
   "metadata": {},
   "source": [
    "### Results\n",
    "\n",
    "* `Log transformed price` against `waterfront` shows a low .01 (or 1%) r-squared value with a 0 p-value\n",
    "* `Log transformed price` against `view` shows a low .06 (or 6%) r-squared value with a 0 p-value\n",
    "* `Log transformed price` against `condition` shows a low .01 (or 1%) r-squared value with a 0 p-value\n",
    "* `Log transformed price` against `grade` shows a high .40 (or 40%) r-squared value with a 0.08 p-value"
   ]
  },
  {
   "cell_type": "markdown",
   "metadata": {},
   "source": [
    "## Recrussive feature elimination (RFE)\n",
    "\n",
    "* Scale all features to be on the same 0 to 1 scale\n",
    "* Create a for loop using RFE where we look at the best features to be selected according to the feature ranking algorithm. "
   ]
  },
  {
   "cell_type": "code",
   "execution_count": 116,
   "metadata": {},
   "outputs": [],
   "source": [
    "from sklearn.feature_selection import RFE\n",
    "from sklearn.linear_model import LinearRegression\n",
    "linreg = LinearRegression()\n",
    "\n",
    "#Look at the one best feature against log transformed dataset\n",
    "selector = RFE(linreg, n_features_to_select=1)\n",
    "Y = df_log['price']\n",
    "X = df_log.drop('price', axis=1)\n",
    "selector = selector.fit(X, Y)"
   ]
  },
  {
   "cell_type": "code",
   "execution_count": 117,
   "metadata": {},
   "outputs": [
    {
     "data": {
      "text/plain": [
       "array([3, 6, 8, 5, 9, 1, 2, 7, 4])"
      ]
     },
     "execution_count": 117,
     "metadata": {},
     "output_type": "execute_result"
    }
   ],
   "source": [
    "selector.ranking_"
   ]
  },
  {
   "cell_type": "code",
   "execution_count": 118,
   "metadata": {},
   "outputs": [
    {
     "data": {
      "text/plain": [
       "Index(['bedrooms', 'bathrooms', 'floors', 'sqft_above', 'sqft_basement',\n",
       "       'sqft_living', 'sqft_living15', 'sqft_lot', 'sqft_lot15'],\n",
       "      dtype='object')"
      ]
     },
     "execution_count": 118,
     "metadata": {},
     "output_type": "execute_result"
    }
   ],
   "source": [
    "#Best feature is sqft_living and sqft_living15\n",
    "X.columns"
   ]
  },
  {
   "cell_type": "code",
   "execution_count": 119,
   "metadata": {},
   "outputs": [],
   "source": [
    "no_scale = selector.ranking_"
   ]
  },
  {
   "cell_type": "code",
   "execution_count": 120,
   "metadata": {},
   "outputs": [
    {
     "name": "stderr",
     "output_type": "stream",
     "text": [
      "/anaconda3/envs/learn-env/lib/python3.6/site-packages/sklearn/preprocessing/data.py:323: DataConversionWarning: Data with input dtype int64, float64 were all converted to float64 by MinMaxScaler.\n",
      "  return self.partial_fit(X, y)\n"
     ]
    }
   ],
   "source": [
    "# Scale all features to be on the same 0 to 1 scale\n",
    "from sklearn.preprocessing import MinMaxScaler\n",
    "scaler = MinMaxScaler()\n",
    "scaler.fit(X2)\n",
    "scaled_data = scaler.transform(X)"
   ]
  },
  {
   "cell_type": "code",
   "execution_count": 121,
   "metadata": {},
   "outputs": [],
   "source": [
    "selector = selector.fit(scaled_data, Y)"
   ]
  },
  {
   "cell_type": "code",
   "execution_count": 122,
   "metadata": {},
   "outputs": [
    {
     "data": {
      "text/plain": [
       "array([7, 8, 9, 2, 4, 6, 1, 3, 5])"
      ]
     },
     "execution_count": 122,
     "metadata": {},
     "output_type": "execute_result"
    }
   ],
   "source": [
    "selector.ranking_"
   ]
  },
  {
   "cell_type": "code",
   "execution_count": 123,
   "metadata": {},
   "outputs": [
    {
     "data": {
      "text/plain": [
       "Index(['bedrooms', 'bathrooms', 'floors', 'sqft_above', 'sqft_basement',\n",
       "       'sqft_living', 'sqft_living15', 'sqft_lot', 'sqft_lot15'],\n",
       "      dtype='object')"
      ]
     },
     "execution_count": 123,
     "metadata": {},
     "output_type": "execute_result"
    }
   ],
   "source": [
    "X.columns"
   ]
  },
  {
   "cell_type": "code",
   "execution_count": 124,
   "metadata": {},
   "outputs": [],
   "source": [
    "scaled_data = selector.ranking_"
   ]
  },
  {
   "cell_type": "code",
   "execution_count": 125,
   "metadata": {},
   "outputs": [
    {
     "data": {
      "text/html": [
       "<div>\n",
       "<style scoped>\n",
       "    .dataframe tbody tr th:only-of-type {\n",
       "        vertical-align: middle;\n",
       "    }\n",
       "\n",
       "    .dataframe tbody tr th {\n",
       "        vertical-align: top;\n",
       "    }\n",
       "\n",
       "    .dataframe thead th {\n",
       "        text-align: right;\n",
       "    }\n",
       "</style>\n",
       "<table border=\"1\" class=\"dataframe\">\n",
       "  <thead>\n",
       "    <tr style=\"text-align: right;\">\n",
       "      <th></th>\n",
       "      <th>Columns</th>\n",
       "      <th>Not scaled</th>\n",
       "      <th>Scaled</th>\n",
       "    </tr>\n",
       "  </thead>\n",
       "  <tbody>\n",
       "    <tr>\n",
       "      <th>0</th>\n",
       "      <td>bedrooms</td>\n",
       "      <td>3</td>\n",
       "      <td>7</td>\n",
       "    </tr>\n",
       "    <tr>\n",
       "      <th>1</th>\n",
       "      <td>bathrooms</td>\n",
       "      <td>6</td>\n",
       "      <td>8</td>\n",
       "    </tr>\n",
       "    <tr>\n",
       "      <th>2</th>\n",
       "      <td>floors</td>\n",
       "      <td>8</td>\n",
       "      <td>9</td>\n",
       "    </tr>\n",
       "    <tr>\n",
       "      <th>3</th>\n",
       "      <td>sqft_above</td>\n",
       "      <td>5</td>\n",
       "      <td>2</td>\n",
       "    </tr>\n",
       "    <tr>\n",
       "      <th>4</th>\n",
       "      <td>sqft_basement</td>\n",
       "      <td>9</td>\n",
       "      <td>4</td>\n",
       "    </tr>\n",
       "    <tr>\n",
       "      <th>5</th>\n",
       "      <td>sqft_living</td>\n",
       "      <td>1</td>\n",
       "      <td>6</td>\n",
       "    </tr>\n",
       "    <tr>\n",
       "      <th>6</th>\n",
       "      <td>sqft_living15</td>\n",
       "      <td>2</td>\n",
       "      <td>1</td>\n",
       "    </tr>\n",
       "    <tr>\n",
       "      <th>7</th>\n",
       "      <td>sqft_lot</td>\n",
       "      <td>7</td>\n",
       "      <td>3</td>\n",
       "    </tr>\n",
       "    <tr>\n",
       "      <th>8</th>\n",
       "      <td>sqft_lot15</td>\n",
       "      <td>4</td>\n",
       "      <td>5</td>\n",
       "    </tr>\n",
       "  </tbody>\n",
       "</table>\n",
       "</div>"
      ],
      "text/plain": [
       "         Columns  Not scaled  Scaled\n",
       "0       bedrooms           3       7\n",
       "1      bathrooms           6       8\n",
       "2         floors           8       9\n",
       "3     sqft_above           5       2\n",
       "4  sqft_basement           9       4\n",
       "5    sqft_living           1       6\n",
       "6  sqft_living15           2       1\n",
       "7       sqft_lot           7       3\n",
       "8     sqft_lot15           4       5"
      ]
     },
     "execution_count": 125,
     "metadata": {},
     "output_type": "execute_result"
    }
   ],
   "source": [
    "features = pd.DataFrame({'Columns': X.columns,\n",
    "                        'Not scaled': no_scale,\n",
    "                        'Scaled': scaled_data})\n",
    "features"
   ]
  },
  {
   "cell_type": "code",
   "execution_count": 110,
   "metadata": {},
   "outputs": [
    {
     "data": {
      "text/plain": [
       "Text(0, 0.5, 'Feature Importance')"
      ]
     },
     "execution_count": 110,
     "metadata": {},
     "output_type": "execute_result"
    },
    {
     "data": {
      "image/png": "[encoded data removed]",
      "text/plain": [
       "<Figure size 864x576 with 1 Axes>"
      ]
     },
     "metadata": {},
     "output_type": "display_data"
    }
   ],
   "source": [
    "plt.style.use('ggplot')\n",
    "ax = features.set_index('Columns').plot(kind='bar', figsize=(12,8))\n",
    "ax.set_title('Feature Importance Scaled vs. Not Scaled')\n",
    "ax.set_ylabel('Feature Importance')"
   ]
  },
  {
   "cell_type": "markdown",
   "metadata": {},
   "source": [
    "### Results\n",
    "\n",
    "* When unscaled, the most important feature is `sqft_living`\n",
    "* When scaled, the most important feature is `sqft_lot`"
   ]
  },
  {
   "cell_type": "markdown",
   "metadata": {},
   "source": [
    "## Train/Test Split\n",
    "\n",
    "* Use a train test split of 20-80\n",
    "* Looking at MSE for train and test"
   ]
  },
  {
   "cell_type": "code",
   "execution_count": 33,
   "metadata": {},
   "outputs": [
    {
     "name": "stdout",
     "output_type": "stream",
     "text": [
      "price    0.197859\n",
      "dtype: float64\n",
      "price    0.192898\n",
      "dtype: float64\n",
      "price    0.197859\n",
      "dtype: float64\n",
      "price    0.192898\n",
      "dtype: float64\n",
      "price    0.197859\n",
      "dtype: float64\n",
      "price    0.192898\n",
      "dtype: float64\n",
      "price    0.197859\n",
      "dtype: float64\n",
      "price    0.192898\n",
      "dtype: float64\n",
      "price    0.197859\n",
      "dtype: float64\n",
      "price    0.192898\n",
      "dtype: float64\n",
      "price    0.197859\n",
      "dtype: float64\n",
      "price    0.192898\n",
      "dtype: float64\n",
      "price    0.197859\n",
      "dtype: float64\n",
      "price    0.192898\n",
      "dtype: float64\n",
      "price    0.197859\n",
      "dtype: float64\n",
      "price    0.192898\n",
      "dtype: float64\n",
      "price    0.197859\n",
      "dtype: float64\n",
      "price    0.192898\n",
      "dtype: float64\n"
     ]
    }
   ],
   "source": [
    "from sklearn.model_selection import train_test_split\n",
    "X_train, X_test, y_train, y_test = train_test_split(X, y, test_size = 0.2, random_state=3)\n",
    "\n",
    "MSE_test = []\n",
    "MSE_train = []\n",
    "list_n = list(range(5,86,10))\n",
    "for n in list_n: \n",
    "    select_n = RFE(linreg, n_features_to_select = n)\n",
    "    select_n = select_n.fit(X_train, np.ravel(y_train))\n",
    "    selected_columns = X.columns[select_n.support_ ]\n",
    "    linreg.fit(X_train[selected_columns],y_train)\n",
    "    yhat_train = linreg.predict(X_train[selected_columns])\n",
    "    yhat_test = linreg.predict(X_test[selected_columns])\n",
    "    mse_train = np.sum((y_train-yhat_train)**2)/len(y_train)\n",
    "    mse_test =np.sum((y_test-yhat_test)**2)/len(y_test)\n",
    "    print(mse_train)\n",
    "    print(mse_test)\n",
    "MSE_test.append(mse_test)\n",
    "MSE_train.append(mse_train)"
   ]
  },
  {
   "cell_type": "code",
   "execution_count": 42,
   "metadata": {},
   "outputs": [
    {
     "data": {
      "text/plain": [
       "0.19785911766672093"
      ]
     },
     "execution_count": 42,
     "metadata": {},
     "output_type": "execute_result"
    }
   ],
   "source": [
    "mse_train = mean_squared_error(y_train, yhat_train)\n",
    "mse_train"
   ]
  },
  {
   "cell_type": "code",
   "execution_count": 43,
   "metadata": {},
   "outputs": [
    {
     "data": {
      "text/plain": [
       "0.1928978511455985"
      ]
     },
     "execution_count": 43,
     "metadata": {},
     "output_type": "execute_result"
    }
   ],
   "source": [
    "mse_test = mean_squared_error(y_test, yhat_test)\n",
    "mse_test"
   ]
  },
  {
   "cell_type": "markdown",
   "metadata": {},
   "source": [
    "## 10-fold cross validation with the final model\n",
    "\n",
    "* Store the (negative) MSEs"
   ]
  },
  {
   "cell_type": "code",
   "execution_count": 34,
   "metadata": {},
   "outputs": [
    {
     "data": {
      "text/plain": [
       "array([-0.19120403, -0.21284126, -0.19749436, -0.20166783, -0.19579267,\n",
       "       -0.19755779, -0.207432  , -0.20748232, -0.20133461, -0.16080888])"
      ]
     },
     "execution_count": 34,
     "metadata": {},
     "output_type": "execute_result"
    }
   ],
   "source": [
    "from sklearn.metrics import mean_squared_error\n",
    "from sklearn.model_selection import cross_val_score\n",
    "\n",
    "# select best predictors\n",
    "\n",
    "select_85 = RFE(linreg, n_features_to_select = 85)\n",
    "select_85 = select_n.fit(X, np.ravel(y))\n",
    "selected_columns = X.columns[select_n.support_]\n",
    "\n",
    "cv_10_results = cross_val_score(linreg, X[selected_columns], y, cv=10, scoring=\"neg_mean_squared_error\")\n",
    "\n",
    "cv_10_results"
   ]
  },
  {
   "cell_type": "code",
   "execution_count": 80,
   "metadata": {},
   "outputs": [
    {
     "data": {
      "text/plain": [
       "-0.19736157522194836"
      ]
     },
     "execution_count": 80,
     "metadata": {},
     "output_type": "execute_result"
    }
   ],
   "source": [
    "np.mean(cv_10_results)"
   ]
  },
  {
   "cell_type": "markdown",
   "metadata": {},
   "source": [
    "## Phase 5: Interpert"
   ]
  },
  {
   "cell_type": "code",
   "execution_count": 47,
   "metadata": {},
   "outputs": [
    {
     "data": {
      "image/png": "[encoded data removed]",
      "text/plain": [
       "<Figure size 720x576 with 2 Axes>"
      ]
     },
     "metadata": {},
     "output_type": "display_data"
    }
   ],
   "source": [
    "correlation = df_log3.corr()\n",
    "plt.figure(figsize=(10, 8))\n",
    "heatmap_final = sns.heatmap(correlation, annot=True, linewidths=0, vmin=-1, cmap=\"RdBu_r\")"
   ]
  },
  {
   "cell_type": "code",
   "execution_count": 135,
   "metadata": {},
   "outputs": [
    {
     "data": {
      "text/plain": [
       "<matplotlib.axes._subplots.AxesSubplot at 0x1a17dc5e10>"
      ]
     },
     "execution_count": 135,
     "metadata": {},
     "output_type": "execute_result"
    },
    {
     "data": {
      "image/png": "[encoded data removed]",
      "text/plain": [
       "<Figure size 720x360 with 1 Axes>"
      ]
     },
     "metadata": {},
     "output_type": "display_data"
    }
   ],
   "source": [
    "df[-15:].plot(x='yr_built', y='price', figsize=(10,5), grid=True)"
   ]
  },
  {
   "cell_type": "code",
   "execution_count": null,
   "metadata": {},
   "outputs": [],
   "source": []
  }
 ],
 "metadata": {
  "kernelspec": {
   "display_name": "learn-env",
   "language": "python",
   "name": "learn-env"
  },
  "language_info": {
   "codemirror_mode": {
    "name": "ipython",
    "version": 3
   },
   "file_extension": ".py",
   "mimetype": "text/x-python",
   "name": "python",
   "nbconvert_exporter": "python",
   "pygments_lexer": "ipython3",
   "version": "3.6.6"
  }
 },
 "nbformat": 4,
 "nbformat_minor": 2
}
